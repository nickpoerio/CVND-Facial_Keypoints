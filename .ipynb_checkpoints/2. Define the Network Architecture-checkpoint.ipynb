{
 "cells": [
  {
   "cell_type": "markdown",
   "metadata": {},
   "source": [
    "## Define the Convolutional Neural Network\n",
    "\n",
    "After you've looked at the data you're working with and, in this case, know the shapes of the images and of the keypoints, you are ready to define a convolutional neural network that can *learn* from this data.\n",
    "\n",
    "In this notebook and in `models.py`, you will:\n",
    "1. Define a CNN with images as input and keypoints as output\n",
    "2. Construct the transformed FaceKeypointsDataset, just as before\n",
    "3. Train the CNN on the training data, tracking loss\n",
    "4. See how the trained model performs on test data\n",
    "5. If necessary, modify the CNN structure and model hyperparameters, so that it performs *well* **\\***\n",
    "\n",
    "**\\*** What does *well* mean?\n",
    "\n",
    "\"Well\" means that the model's loss decreases during training **and**, when applied to test image data, the model produces keypoints that closely match the true keypoints of each face. And you'll see examples of this later in the notebook.\n",
    "\n",
    "---\n"
   ]
  },
  {
   "cell_type": "markdown",
   "metadata": {},
   "source": [
    "## CNN Architecture\n",
    "\n",
    "Recall that CNN's are defined by a few types of layers:\n",
    "* Convolutional layers\n",
    "* Maxpooling layers\n",
    "* Fully-connected layers\n",
    "\n",
    "You are required to use the above layers and encouraged to add multiple convolutional layers and things like dropout layers that may prevent overfitting. You are also encouraged to look at literature on keypoint detection, such as [this paper](https://arxiv.org/pdf/1710.00977.pdf), to help you determine the structure of your network.\n",
    "\n",
    "\n",
    "### TODO: Define your model in the provided file `models.py` file\n",
    "\n",
    "This file is mostly empty but contains the expected name and some TODO's for creating your model.\n",
    "\n",
    "---"
   ]
  },
  {
   "cell_type": "markdown",
   "metadata": {},
   "source": [
    "## PyTorch Neural Nets\n",
    "\n",
    "To define a neural network in PyTorch, you define the layers of a model in the function `__init__` and define the feedforward behavior of a network that employs those initialized layers in the function `forward`, which takes in an input image tensor, `x`. The structure of this Net class is shown below and left for you to fill in.\n",
    "\n",
    "Note: During training, PyTorch will be able to perform backpropagation by keeping track of the network's feedforward behavior and using autograd to calculate the update to the weights in the network.\n",
    "\n",
    "#### Define the Layers in ` __init__`\n",
    "As a reminder, a conv/pool layer may be defined like this (in `__init__`):\n",
    "```\n",
    "# 1 input image channel (for grayscale images), 32 output channels/feature maps, 3x3 square convolution kernel\n",
    "self.conv1 = nn.Conv2d(1, 32, 3)\n",
    "\n",
    "# maxpool that uses a square window of kernel_size=2, stride=2\n",
    "self.pool = nn.MaxPool2d(2, 2)      \n",
    "```\n",
    "\n",
    "#### Refer to Layers in `forward`\n",
    "Then referred to in the `forward` function like this, in which the conv1 layer has a ReLu activation applied to it before maxpooling is applied:\n",
    "```\n",
    "x = self.pool(F.relu(self.conv1(x)))\n",
    "```\n",
    "\n",
    "Best practice is to place any layers whose weights will change during the training process in `__init__` and refer to them in the `forward` function; any layers or functions that always behave in the same way, such as a pre-defined activation function, should appear *only* in the `forward` function."
   ]
  },
  {
   "cell_type": "markdown",
   "metadata": {},
   "source": [
    "#### Why models.py\n",
    "\n",
    "You are tasked with defining the network in the `models.py` file so that any models you define can be saved and loaded by name in different notebooks in this project directory. For example, by defining a CNN class called `Net` in `models.py`, you can then create that same architecture in this and other notebooks by simply importing the class and instantiating a model:\n",
    "```\n",
    "    from models import Net\n",
    "    net = Net()\n",
    "```"
   ]
  },
  {
   "cell_type": "code",
   "execution_count": 145,
   "metadata": {},
   "outputs": [],
   "source": [
    "# load the data if you need to; if you have already loaded the data, you may comment this cell out\n",
    "# -- DO NOT CHANGE THIS CELL -- #\n",
    "#!mkdir data\n",
    "#!wget -P /data/ https://s3.amazonaws.com/video.udacity-data.com/topher/2018/May/5aea1b91_train-test-data/train-test-data.zip\n",
    "#!unzip -n /data/train-test-data.zip -d /data"
   ]
  },
  {
   "cell_type": "markdown",
   "metadata": {},
   "source": [
    "<div class=\"alert alert-info\">**Note:** Workspaces automatically close connections after 30 minutes of inactivity (including inactivity while training!). Use the code snippet below to keep your workspace alive during training. (The active_session context manager is imported below.)\n",
    "</div>\n",
    "```\n",
    "from workspace_utils import active_session\n",
    "\n",
    "with active_session():\n",
    "    train_model(num_epochs)\n",
    "```\n"
   ]
  },
  {
   "cell_type": "code",
   "execution_count": 146,
   "metadata": {},
   "outputs": [
    {
     "name": "stdout",
     "output_type": "stream",
     "text": [
      "The autoreload extension is already loaded. To reload it, use:\n",
      "  %reload_ext autoreload\n"
     ]
    }
   ],
   "source": [
    "# import the usual resources\n",
    "import matplotlib.pyplot as plt\n",
    "import numpy as np\n",
    "\n",
    "# import utilities to keep workspaces alive during model training\n",
    "#from workspace_utils import active_session\n",
    "\n",
    "# watch for any changes in model.py, if it changes, re-load it automatically\n",
    "%load_ext autoreload\n",
    "%autoreload 2"
   ]
  },
  {
   "cell_type": "code",
   "execution_count": 147,
   "metadata": {},
   "outputs": [
    {
     "name": "stdout",
     "output_type": "stream",
     "text": [
      "Net(\n",
      "  (conv1): Conv2d(1, 32, kernel_size=(5, 5), stride=(1, 1))\n",
      "  (conv2): Conv2d(32, 64, kernel_size=(4, 4), stride=(1, 1))\n",
      "  (conv3): Conv2d(64, 128, kernel_size=(3, 3), stride=(1, 1))\n",
      "  (conv4): Conv2d(128, 192, kernel_size=(2, 2), stride=(1, 1))\n",
      "  (conv5): Conv2d(192, 320, kernel_size=(1, 1), stride=(1, 1))\n",
      "  (pool): MaxPool2d(kernel_size=2, stride=2, padding=0, dilation=1, ceil_mode=False)\n",
      "  (dropout1): Dropout(p=0.1, inplace=False)\n",
      "  (dropout2): Dropout(p=0.15, inplace=False)\n",
      "  (dropout3): Dropout(p=0.2, inplace=False)\n",
      "  (dropout4): Dropout(p=0.25, inplace=False)\n",
      "  (dropout5): Dropout(p=0.3, inplace=False)\n",
      "  (dropout6): Dropout(p=0.35, inplace=False)\n",
      "  (dropout7): Dropout(p=0.4, inplace=False)\n",
      "  (dense1): Linear(in_features=11520, out_features=1000, bias=True)\n",
      "  (dense2): Linear(in_features=1000, out_features=1000, bias=True)\n",
      "  (dense3): Linear(in_features=1000, out_features=136, bias=True)\n",
      "  (elu): ELU(alpha=1.0)\n",
      "  (tanh): Tanh()\n",
      ")\n"
     ]
    }
   ],
   "source": [
    "## TODO: Define the Net in models.py\n",
    "\n",
    "import torch\n",
    "import torch.nn as nn\n",
    "import torch.nn.functional as F\n",
    "\n",
    "device = torch.device(\"cuda:0\" if torch.cuda.is_available() else \"cpu\")\n",
    "\n",
    "## TODO: Once you've define the network, you can instantiate it\n",
    "# one example conv layer has been provided for you\n",
    "from models import Net\n",
    "\n",
    "net = Net().to(device)\n",
    "print(net)"
   ]
  },
  {
   "cell_type": "markdown",
   "metadata": {
    "collapsed": true
   },
   "source": [
    "## Transform the dataset \n",
    "\n",
    "To prepare for training, create a transformed dataset of images and keypoints.\n",
    "\n",
    "### TODO: Define a data transform\n",
    "\n",
    "In PyTorch, a convolutional neural network expects a torch image of a consistent size as input. For efficient training, and so your model's loss does not blow up during training, it is also suggested that you normalize the input images and keypoints. The necessary transforms have been defined in `data_load.py` and you **do not** need to modify these; take a look at this file (you'll see the same transforms that were defined and applied in Notebook 1).\n",
    "\n",
    "To define the data transform below, use a [composition](http://pytorch.org/tutorials/beginner/data_loading_tutorial.html#compose-transforms) of:\n",
    "1. Rescaling and/or cropping the data, such that you are left with a square image (the suggested size is 224x224px)\n",
    "2. Normalizing the images and keypoints; turning each RGB image into a grayscale image with a color range of [0, 1] and transforming the given keypoints into a range of [-1, 1]\n",
    "3. Turning these images and keypoints into Tensors\n",
    "\n",
    "These transformations have been defined in `data_load.py`, but it's up to you to call them and create a `data_transform` below. **This transform will be applied to the training data and, later, the test data**. It will change how you go about displaying these images and keypoints, but these steps are essential for efficient training.\n",
    "\n",
    "As a note, should you want to perform data augmentation (which is optional in this project), and randomly rotate or shift these images, a square image size will be useful; rotating a 224x224 image by 90 degrees will result in the same shape of output."
   ]
  },
  {
   "cell_type": "code",
   "execution_count": 148,
   "metadata": {},
   "outputs": [],
   "source": [
    "from torchvision import transforms\n",
    "\n",
    "# the transforms we defined in Notebook 1 are in the helper file `data_load.py`\n",
    "from data_load import Rescale, RandomCrop, Normalize, ToTensor\n",
    "\n",
    "\n",
    "## TODO: define the data_transform using transforms.Compose([all tx's, . , .])\n",
    "# order matters! i.e. rescaling should come before a smaller crop\n",
    "data_transform = transforms.Compose([Rescale(250),RandomCrop(224),Normalize(),ToTensor()])\n",
    "\n",
    "# testing that you've defined a transform\n",
    "assert(data_transform is not None), 'Define a data_transform'"
   ]
  },
  {
   "cell_type": "code",
   "execution_count": 149,
   "metadata": {},
   "outputs": [
    {
     "name": "stdout",
     "output_type": "stream",
     "text": [
      "Number of images:  3462\n",
      "0 torch.Size([1, 224, 224]) torch.Size([68, 2])\n",
      "1 torch.Size([1, 224, 224]) torch.Size([68, 2])\n",
      "2 torch.Size([1, 224, 224]) torch.Size([68, 2])\n",
      "3 torch.Size([1, 224, 224]) torch.Size([68, 2])\n"
     ]
    }
   ],
   "source": [
    "# create the transformed dataset\n",
    "transformed_dataset = FacialKeypointsDataset(csv_file='data/training_frames_keypoints.csv',\n",
    "                                             root_dir='data/training/',\n",
    "                                             transform=data_transform)\n",
    "\n",
    "\n",
    "print('Number of images: ', len(transformed_dataset))\n",
    "\n",
    "# iterate through the transformed dataset and print some stats about the first few samples\n",
    "for i in range(4):\n",
    "    sample = transformed_dataset[i]\n",
    "    print(i, sample['image'].size(), sample['keypoints'].size())"
   ]
  },
  {
   "cell_type": "markdown",
   "metadata": {},
   "source": [
    "## Batching and loading data\n",
    "\n",
    "Next, having defined the transformed dataset, we can use PyTorch's DataLoader class to load the training data in batches of whatever size as well as to shuffle the data for training the model. You can read more about the parameters of the DataLoader, in [this documentation](http://pytorch.org/docs/master/data.html).\n",
    "\n",
    "#### Batch size\n",
    "Decide on a good batch size for training your model. Try both small and large batch sizes and note how the loss decreases as the model trains. Too large a batch size may cause your model to crash and/or run out of memory while training.\n",
    "\n",
    "**Note for Windows users**: Please change the `num_workers` to 0 or you may face some issues with your DataLoader failing."
   ]
  },
  {
   "cell_type": "code",
   "execution_count": 150,
   "metadata": {},
   "outputs": [],
   "source": [
    "# load training data in batches\n",
    "batch_size = 16\n",
    "\n",
    "train_loader = DataLoader(transformed_dataset, \n",
    "                          batch_size=batch_size,\n",
    "                          shuffle=True, \n",
    "                          num_workers=4)\n"
   ]
  },
  {
   "cell_type": "markdown",
   "metadata": {},
   "source": [
    "## Before training\n",
    "\n",
    "Take a look at how this model performs before it trains. You should see that the keypoints it predicts start off in one spot and don't match the keypoints on a face at all! It's interesting to visualize this behavior so that you can compare it to the model after training and see how the model has improved.\n",
    "\n",
    "#### Load in the test dataset\n",
    "\n",
    "The test dataset is one that this model has *not* seen before, meaning it has not trained with these images. We'll load in this test data and before and after training, see how your model performs on this set!\n",
    "\n",
    "To visualize this test data, we have to go through some un-transformation steps to turn our images into python images from tensors and to turn our keypoints back into a recognizable range. "
   ]
  },
  {
   "cell_type": "code",
   "execution_count": 151,
   "metadata": {},
   "outputs": [],
   "source": [
    "# load in the test data, using the dataset class\n",
    "# AND apply the data_transform you defined above\n",
    "\n",
    "# create the test dataset\n",
    "test_dataset = FacialKeypointsDataset(csv_file='data/test_frames_keypoints.csv',\n",
    "                                             root_dir='data/test/',\n",
    "                                             transform=data_transform)\n",
    "\n"
   ]
  },
  {
   "cell_type": "code",
   "execution_count": 152,
   "metadata": {},
   "outputs": [],
   "source": [
    "# load test data in batches\n",
    "batch_size = 16\n",
    "\n",
    "test_loader = DataLoader(test_dataset, \n",
    "                          batch_size=batch_size,\n",
    "                          shuffle=True, \n",
    "                          num_workers=4)"
   ]
  },
  {
   "cell_type": "markdown",
   "metadata": {},
   "source": [
    "## Apply the model on a test sample\n",
    "\n",
    "To test the model on a test sample of data, you have to follow these steps:\n",
    "1. Extract the image and ground truth keypoints from a sample\n",
    "2. Wrap the image in a Variable, so that the net can process it as input and track how it changes as the image moves through the network.\n",
    "3. Make sure the image is a FloatTensor, which the model expects.\n",
    "4. Forward pass the image through the net to get the predicted, output keypoints.\n",
    "\n",
    "This function test how the network performs on the first batch of test data. It returns the images, the transformed images, the predicted keypoints (produced by the model), and the ground truth keypoints."
   ]
  },
  {
   "cell_type": "code",
   "execution_count": 153,
   "metadata": {},
   "outputs": [],
   "source": [
    "# test the model on a batch of test images\n",
    "\n",
    "def net_sample_output():\n",
    "    \n",
    "    # iterate through the test dataset\n",
    "    for i, sample in enumerate(test_loader):\n",
    "        \n",
    "        # get sample data: images and ground truth keypoints\n",
    "        images = sample['image']\n",
    "        key_pts = sample['keypoints']\n",
    "\n",
    "        # convert images to FloatTensors\n",
    "        images = images.type(torch.FloatTensor).to(device)\n",
    "\n",
    "        # forward pass to get net output\n",
    "        output_pts = net(images)\n",
    "        \n",
    "        # reshape to batch_size x 68 x 2 pts\n",
    "        output_pts = output_pts.view(output_pts.size()[0], 68, -1)\n",
    "        \n",
    "        # break after first image is tested\n",
    "        if i == 0:\n",
    "            return images, output_pts, key_pts\n",
    "            "
   ]
  },
  {
   "cell_type": "markdown",
   "metadata": {},
   "source": [
    "#### Debugging tips\n",
    "\n",
    "If you get a size or dimension error here, make sure that your network outputs the expected number of keypoints! Or if you get a Tensor type error, look into changing the above code that casts the data into float types: `images = images.type(torch.FloatTensor)`."
   ]
  },
  {
   "cell_type": "code",
   "execution_count": 154,
   "metadata": {},
   "outputs": [
    {
     "name": "stdout",
     "output_type": "stream",
     "text": [
      "torch.Size([16, 1, 224, 224])\n",
      "torch.Size([16, 68, 2])\n",
      "torch.Size([16, 68, 2])\n"
     ]
    }
   ],
   "source": [
    "# call the above function\n",
    "# returns: test images, test predicted keypoints, test ground truth keypoints\n",
    "test_images, test_outputs, gt_pts = net_sample_output()\n",
    "\n",
    "# print out the dimensions of the data to see if they make sense\n",
    "print(test_images.data.size())\n",
    "print(test_outputs.data.size())\n",
    "print(gt_pts.size())"
   ]
  },
  {
   "cell_type": "markdown",
   "metadata": {},
   "source": [
    "## Visualize the predicted keypoints\n",
    "\n",
    "Once we've had the model produce some predicted output keypoints, we can visualize these points in a way that's similar to how we've displayed this data before, only this time, we have to \"un-transform\" the image/keypoint data to display it.\n",
    "\n",
    "Note that I've defined a *new* function, `show_all_keypoints` that displays a grayscale image, its predicted keypoints and its ground truth keypoints (if provided)."
   ]
  },
  {
   "cell_type": "code",
   "execution_count": 155,
   "metadata": {},
   "outputs": [],
   "source": [
    "def show_all_keypoints(image, predicted_key_pts, gt_pts=None):\n",
    "    \"\"\"Show image with predicted keypoints\"\"\"\n",
    "    # image is grayscale\n",
    "    plt.imshow(image, cmap='gray')\n",
    "    plt.scatter(predicted_key_pts[:, 0], predicted_key_pts[:, 1], s=20, marker='.', c='m')\n",
    "    # plot ground truth points as green pts\n",
    "    if gt_pts is not None:\n",
    "        plt.scatter(gt_pts[:, 0], gt_pts[:, 1], s=20, marker='.', c='g')\n"
   ]
  },
  {
   "cell_type": "markdown",
   "metadata": {},
   "source": [
    "#### Un-transformation\n",
    "\n",
    "Next, you'll see a helper function. `visualize_output` that takes in a batch of images, predicted keypoints, and ground truth keypoints and displays a set of those images and their true/predicted keypoints.\n",
    "\n",
    "This function's main role is to take batches of image and keypoint data (the input and output of your CNN), and transform them into numpy images and un-normalized keypoints (x, y) for normal display. The un-transformation process turns keypoints and images into numpy arrays from Tensors *and* it undoes the keypoint normalization done in the Normalize() transform; it's assumed that you applied these transformations when you loaded your test data."
   ]
  },
  {
   "cell_type": "code",
   "execution_count": 156,
   "metadata": {},
   "outputs": [
    {
     "data": {
      "image/png": "[encoded data removed]",
      "text/plain": [
       "<Figure size 1440x720 with 1 Axes>"
      ]
     },
     "metadata": {
      "needs_background": "light"
     },
     "output_type": "display_data"
    },
    {
     "data": {
      "image/png": "[encoded data removed]",
      "text/plain": [
       "<Figure size 1440x720 with 1 Axes>"
      ]
     },
     "metadata": {
      "needs_background": "light"
     },
     "output_type": "display_data"
    },
    {
     "data": {
      "image/png": "[encoded data removed]",
      "text/plain": [
       "<Figure size 1440x720 with 1 Axes>"
      ]
     },
     "metadata": {
      "needs_background": "light"
     },
     "output_type": "display_data"
    },
    {
     "data": {
      "image/png": "[encoded data removed]",
      "text/plain": [
       "<Figure size 1440x720 with 1 Axes>"
      ]
     },
     "metadata": {
      "needs_background": "light"
     },
     "output_type": "display_data"
    },
    {
     "data": {
      "image/png": "[encoded data removed]",
      "text/plain": [
       "<Figure size 1440x720 with 1 Axes>"
      ]
     },
     "metadata": {
      "needs_background": "light"
     },
     "output_type": "display_data"
    },
    {
     "data": {
      "image/png": "[encoded data removed]",
      "text/plain": [
       "<Figure size 1440x720 with 1 Axes>"
      ]
     },
     "metadata": {
      "needs_background": "light"
     },
     "output_type": "display_data"
    },
    {
     "data": {
      "image/png": "[encoded data removed]",
      "text/plain": [
       "<Figure size 1440x720 with 1 Axes>"
      ]
     },
     "metadata": {
      "needs_background": "light"
     },
     "output_type": "display_data"
    },
    {
     "data": {
      "image/png": "[encoded data removed]",
      "text/plain": [
       "<Figure size 1440x720 with 1 Axes>"
      ]
     },
     "metadata": {
      "needs_background": "light"
     },
     "output_type": "display_data"
    },
    {
     "data": {
      "image/png": "[encoded data removed]",
      "text/plain": [
       "<Figure size 1440x720 with 1 Axes>"
      ]
     },
     "metadata": {
      "needs_background": "light"
     },
     "output_type": "display_data"
    },
    {
     "data": {
      "image/png": "[encoded data removed]",
      "text/plain": [
       "<Figure size 1440x720 with 1 Axes>"
      ]
     },
     "metadata": {
      "needs_background": "light"
     },
     "output_type": "display_data"
    },
    {
     "data": {
      "image/png": "[encoded data removed]",
      "text/plain": [
       "<Figure size 1440x720 with 1 Axes>"
      ]
     },
     "metadata": {
      "needs_background": "light"
     },
     "output_type": "display_data"
    },
    {
     "data": {
      "image/png": "[encoded data removed]",
      "text/plain": [
       "<Figure size 1440x720 with 1 Axes>"
      ]
     },
     "metadata": {
      "needs_background": "light"
     },
     "output_type": "display_data"
    },
    {
     "data": {
      "image/png": "[encoded data removed]",
      "text/plain": [
       "<Figure size 1440x720 with 1 Axes>"
      ]
     },
     "metadata": {
      "needs_background": "light"
     },
     "output_type": "display_data"
    },
    {
     "data": {
      "image/png": "[encoded data removed]",
      "text/plain": [
       "<Figure size 1440x720 with 1 Axes>"
      ]
     },
     "metadata": {
      "needs_background": "light"
     },
     "output_type": "display_data"
    },
    {
     "data": {
      "image/png": "[encoded data removed]",
      "text/plain": [
       "<Figure size 1440x720 with 1 Axes>"
      ]
     },
     "metadata": {
      "needs_background": "light"
     },
     "output_type": "display_data"
    },
    {
     "data": {
      "image/png": "[encoded data removed]",
      "text/plain": [
       "<Figure size 1440x720 with 1 Axes>"
      ]
     },
     "metadata": {
      "needs_background": "light"
     },
     "output_type": "display_data"
    }
   ],
   "source": [
    "# visualize the output\n",
    "# by default this shows a batch of 10 images\n",
    "def visualize_output(test_images, test_outputs, gt_pts=None, batch_size=16):\n",
    "\n",
    "    for i in range(batch_size):\n",
    "        plt.figure(figsize=(20,10))\n",
    "        ax = plt.subplot(1, batch_size, i+1)\n",
    "\n",
    "        # un-transform the image data\n",
    "        image = test_images[i].data   # get the image from it's Variable wrapper\n",
    "        image = image.cpu().numpy()   # convert to numpy array from a Tensor\n",
    "        image = np.transpose(image, (1, 2, 0))   # transpose to go from torch to numpy image\n",
    "\n",
    "        # un-transform the predicted key_pts data\n",
    "        predicted_key_pts = test_outputs[i].data\n",
    "        predicted_key_pts = predicted_key_pts.cpu().numpy()\n",
    "        # undo normalization of keypoints  \n",
    "        predicted_key_pts = predicted_key_pts*50.0+100\n",
    "        \n",
    "        # plot ground truth points for comparison, if they exist\n",
    "        ground_truth_pts = None\n",
    "        if gt_pts is not None:\n",
    "            ground_truth_pts = gt_pts[i]         \n",
    "            ground_truth_pts = ground_truth_pts*50.0+100\n",
    "        \n",
    "        # call show_all_keypoints\n",
    "        show_all_keypoints(np.squeeze(image), predicted_key_pts, ground_truth_pts)\n",
    "            \n",
    "        plt.axis('off')\n",
    "\n",
    "    plt.show()\n",
    "    \n",
    "# call it\n",
    "visualize_output(test_images, test_outputs, gt_pts)"
   ]
  },
  {
   "cell_type": "markdown",
   "metadata": {},
   "source": [
    "## Training\n",
    "\n",
    "#### Loss function\n",
    "Training a network to predict keypoints is different than training a network to predict a class; instead of outputting a distribution of classes and using cross entropy loss, you may want to choose a loss function that is suited for regression, which directly compares a predicted value and target value. Read about the various kinds of loss functions (like MSE or L1/SmoothL1 loss) in [this documentation](http://pytorch.org/docs/master/_modules/torch/nn/modules/loss.html).\n",
    "\n",
    "### TODO: Define the loss and optimization\n",
    "\n",
    "Next, you'll define how the model will train by deciding on the loss function and optimizer.\n",
    "\n",
    "---"
   ]
  },
  {
   "cell_type": "code",
   "execution_count": 157,
   "metadata": {},
   "outputs": [],
   "source": [
    "## TODO: Define the loss and optimization\n",
    "import torch.optim as optim\n",
    "\n",
    "criterion = nn.SmoothL1Loss()\n",
    "#nn.MSELoss() \n",
    "\n",
    "optimizer = optim.Adam(net.parameters(),lr=0.0001)\n"
   ]
  },
  {
   "cell_type": "markdown",
   "metadata": {},
   "source": [
    "## Training and Initial Observation\n",
    "\n",
    "Now, you'll train on your batched training data from `train_loader` for a number of epochs. \n",
    "\n",
    "To quickly observe how your model is training and decide on whether or not you should modify it's structure or hyperparameters, you're encouraged to start off with just one or two epochs at first. As you train, note how your the model's loss behaves over time: does it decrease quickly at first and then slow down? Does it take a while to decrease in the first place? What happens if you change the batch size of your training data or modify your loss function? etc. \n",
    "\n",
    "Use these initial observations to make changes to your model and decide on the best architecture before you train for many epochs and create a final model."
   ]
  },
  {
   "cell_type": "code",
   "execution_count": 158,
   "metadata": {},
   "outputs": [],
   "source": [
    "## TODO: change the name to something uniqe for each new model\n",
    "model_dir = 'saved_models/'\n",
    "model_name = 'keypoints_model.pt'"
   ]
  },
  {
   "cell_type": "code",
   "execution_count": 159,
   "metadata": {},
   "outputs": [],
   "source": [
    "def train_net(n_epochs):\n",
    "\n",
    "    # prepare the net for training\n",
    "    net.train()\n",
    "\n",
    "    for epoch in range(n_epochs):  # loop over the dataset multiple times\n",
    "        \n",
    "        running_loss = 0.0\n",
    "\n",
    "        # train on batches of data, assumes you already have train_loader\n",
    "        for batch_i, data in enumerate(train_loader):\n",
    "            # get the input images and their corresponding labels\n",
    "            images = data['image']\n",
    "            key_pts = data['keypoints']\n",
    "\n",
    "            # flatten pts\n",
    "            key_pts = key_pts.view(key_pts.size(0), -1)\n",
    "\n",
    "            # convert variables to floats for regression loss\n",
    "            key_pts = key_pts.type(torch.FloatTensor).to(device)\n",
    "            images = images.type(torch.FloatTensor).to(device)\n",
    "\n",
    "            # forward pass to get outputs\n",
    "            output_pts = net(images)\n",
    "\n",
    "            # calculate the loss between predicted and target keypoints\n",
    "            loss = criterion(output_pts, key_pts)\n",
    "\n",
    "            # zero the parameter (weight) gradients\n",
    "            optimizer.zero_grad()\n",
    "            \n",
    "            # backward pass to calculate the weight gradients\n",
    "            loss.backward()\n",
    "\n",
    "            # update the weights\n",
    "            optimizer.step()\n",
    "\n",
    "            # print loss statistics\n",
    "            running_loss += loss.item()\n",
    "            if batch_i % 16 == 15:    # print every 10 batches\n",
    "                print('Epoch: {}, Batch: {}, Avg. Loss: {}'.format(epoch + 1, batch_i+1, running_loss/16))\n",
    "                torch.save(net.state_dict(), model_dir+model_name)\n",
    "                running_loss = 0.0\n",
    "\n",
    "    print('Finished Training')\n"
   ]
  },
  {
   "cell_type": "code",
   "execution_count": 160,
   "metadata": {},
   "outputs": [
    {
     "name": "stdout",
     "output_type": "stream",
     "text": [
      "Epoch: 1, Batch: 16, Avg. Loss: 0.30537460278719664\n",
      "Epoch: 1, Batch: 32, Avg. Loss: 0.14817405072972178\n",
      "Epoch: 1, Batch: 48, Avg. Loss: 0.13599234586581588\n",
      "Epoch: 1, Batch: 64, Avg. Loss: 0.11512909829616547\n",
      "Epoch: 1, Batch: 80, Avg. Loss: 0.11956578865647316\n",
      "Epoch: 1, Batch: 96, Avg. Loss: 0.10704773757606745\n",
      "Epoch: 1, Batch: 112, Avg. Loss: 0.10832553496584296\n",
      "Epoch: 1, Batch: 128, Avg. Loss: 0.10816714772954583\n",
      "Epoch: 1, Batch: 144, Avg. Loss: 0.11098676174879074\n",
      "Epoch: 1, Batch: 160, Avg. Loss: 0.10055337194353342\n",
      "Epoch: 1, Batch: 176, Avg. Loss: 0.10047379601746798\n",
      "Epoch: 1, Batch: 192, Avg. Loss: 0.0900546486955136\n",
      "Epoch: 1, Batch: 208, Avg. Loss: 0.09621897805482149\n",
      "Epoch: 2, Batch: 16, Avg. Loss: 0.10566377872601151\n",
      "Epoch: 2, Batch: 32, Avg. Loss: 0.09934634948149323\n",
      "Epoch: 2, Batch: 48, Avg. Loss: 0.10296713723801076\n",
      "Epoch: 2, Batch: 64, Avg. Loss: 0.09233308816328645\n",
      "Epoch: 2, Batch: 80, Avg. Loss: 0.10208651050925255\n",
      "Epoch: 2, Batch: 96, Avg. Loss: 0.09745839238166809\n",
      "Epoch: 2, Batch: 112, Avg. Loss: 0.10017457325011492\n",
      "Epoch: 2, Batch: 128, Avg. Loss: 0.09599332697689533\n",
      "Epoch: 2, Batch: 144, Avg. Loss: 0.09081780142150819\n",
      "Epoch: 2, Batch: 160, Avg. Loss: 0.10009828233160079\n",
      "Epoch: 2, Batch: 176, Avg. Loss: 0.10553252627141774\n",
      "Epoch: 2, Batch: 192, Avg. Loss: 0.09694022824987769\n",
      "Epoch: 2, Batch: 208, Avg. Loss: 0.08529171138070524\n",
      "Epoch: 3, Batch: 16, Avg. Loss: 0.0864990174304694\n",
      "Epoch: 3, Batch: 32, Avg. Loss: 0.08573222858831286\n",
      "Epoch: 3, Batch: 48, Avg. Loss: 0.0913614435121417\n",
      "Epoch: 3, Batch: 64, Avg. Loss: 0.09299005614593625\n",
      "Epoch: 3, Batch: 80, Avg. Loss: 0.11702014598995447\n",
      "Epoch: 3, Batch: 96, Avg. Loss: 0.08581531443633139\n",
      "Epoch: 3, Batch: 112, Avg. Loss: 0.09507900523021817\n",
      "Epoch: 3, Batch: 128, Avg. Loss: 0.07972505921497941\n",
      "Epoch: 3, Batch: 144, Avg. Loss: 0.09302442148327827\n",
      "Epoch: 3, Batch: 160, Avg. Loss: 0.08307259040884674\n",
      "Epoch: 3, Batch: 176, Avg. Loss: 0.09776291763409972\n",
      "Epoch: 3, Batch: 192, Avg. Loss: 0.10051248804666102\n",
      "Epoch: 3, Batch: 208, Avg. Loss: 0.08387594018131495\n",
      "Epoch: 4, Batch: 16, Avg. Loss: 0.09224543441087008\n",
      "Epoch: 4, Batch: 32, Avg. Loss: 0.09897688892669976\n",
      "Epoch: 4, Batch: 48, Avg. Loss: 0.10115495603531599\n",
      "Epoch: 4, Batch: 64, Avg. Loss: 0.09388583805412054\n",
      "Epoch: 4, Batch: 80, Avg. Loss: 0.0900106227491051\n",
      "Epoch: 4, Batch: 96, Avg. Loss: 0.07147492072544992\n",
      "Epoch: 4, Batch: 112, Avg. Loss: 0.07657434744760394\n",
      "Epoch: 4, Batch: 128, Avg. Loss: 0.0770342422183603\n",
      "Epoch: 4, Batch: 144, Avg. Loss: 0.08937995368614793\n",
      "Epoch: 4, Batch: 160, Avg. Loss: 0.08748800796456635\n",
      "Epoch: 4, Batch: 176, Avg. Loss: 0.09727739403024316\n",
      "Epoch: 4, Batch: 192, Avg. Loss: 0.08739941730163991\n",
      "Epoch: 4, Batch: 208, Avg. Loss: 0.08244116534478962\n",
      "Epoch: 5, Batch: 16, Avg. Loss: 0.09508350025862455\n",
      "Epoch: 5, Batch: 32, Avg. Loss: 0.0929905348457396\n",
      "Epoch: 5, Batch: 48, Avg. Loss: 0.07399964891374111\n",
      "Epoch: 5, Batch: 64, Avg. Loss: 0.09013499831780791\n",
      "Epoch: 5, Batch: 80, Avg. Loss: 0.08984659658744931\n",
      "Epoch: 5, Batch: 96, Avg. Loss: 0.0858443109318614\n",
      "Epoch: 5, Batch: 112, Avg. Loss: 0.08822842128574848\n",
      "Epoch: 5, Batch: 128, Avg. Loss: 0.09626036137342453\n",
      "Epoch: 5, Batch: 144, Avg. Loss: 0.08074516337364912\n",
      "Epoch: 5, Batch: 160, Avg. Loss: 0.08578412001952529\n",
      "Epoch: 5, Batch: 176, Avg. Loss: 0.09128786716610193\n",
      "Epoch: 5, Batch: 192, Avg. Loss: 0.09667673357762396\n",
      "Epoch: 5, Batch: 208, Avg. Loss: 0.08153402851894498\n",
      "Epoch: 6, Batch: 16, Avg. Loss: 0.09019047301262617\n",
      "Epoch: 6, Batch: 32, Avg. Loss: 0.08502045506611466\n",
      "Epoch: 6, Batch: 48, Avg. Loss: 0.09893002826720476\n",
      "Epoch: 6, Batch: 64, Avg. Loss: 0.09198906179517508\n",
      "Epoch: 6, Batch: 80, Avg. Loss: 0.09016863047145307\n",
      "Epoch: 6, Batch: 96, Avg. Loss: 0.07081555528566241\n",
      "Epoch: 6, Batch: 112, Avg. Loss: 0.09848662069998682\n",
      "Epoch: 6, Batch: 128, Avg. Loss: 0.09413778968155384\n",
      "Epoch: 6, Batch: 144, Avg. Loss: 0.08040492236614227\n",
      "Epoch: 6, Batch: 160, Avg. Loss: 0.08850223990157247\n",
      "Epoch: 6, Batch: 176, Avg. Loss: 0.08368060807697475\n",
      "Epoch: 6, Batch: 192, Avg. Loss: 0.09060430666431785\n",
      "Epoch: 6, Batch: 208, Avg. Loss: 0.08805652568116784\n",
      "Epoch: 7, Batch: 16, Avg. Loss: 0.08907756861299276\n",
      "Epoch: 7, Batch: 32, Avg. Loss: 0.07740863366052508\n",
      "Epoch: 7, Batch: 48, Avg. Loss: 0.07884112861938775\n",
      "Epoch: 7, Batch: 64, Avg. Loss: 0.07845349377021194\n",
      "Epoch: 7, Batch: 80, Avg. Loss: 0.07803653390146792\n",
      "Epoch: 7, Batch: 96, Avg. Loss: 0.07603927631862462\n",
      "Epoch: 7, Batch: 112, Avg. Loss: 0.0970093805808574\n",
      "Epoch: 7, Batch: 128, Avg. Loss: 0.0801336185541004\n",
      "Epoch: 7, Batch: 144, Avg. Loss: 0.08470505103468895\n",
      "Epoch: 7, Batch: 160, Avg. Loss: 0.09221067186444998\n",
      "Epoch: 7, Batch: 176, Avg. Loss: 0.09090567915700376\n",
      "Epoch: 7, Batch: 192, Avg. Loss: 0.08517336915247142\n",
      "Epoch: 7, Batch: 208, Avg. Loss: 0.0781089854426682\n",
      "Epoch: 8, Batch: 16, Avg. Loss: 0.08341329544782639\n",
      "Epoch: 8, Batch: 32, Avg. Loss: 0.08145903749391437\n",
      "Epoch: 8, Batch: 48, Avg. Loss: 0.08857552986592054\n",
      "Epoch: 8, Batch: 64, Avg. Loss: 0.08565162308514118\n",
      "Epoch: 8, Batch: 80, Avg. Loss: 0.0890074095223099\n",
      "Epoch: 8, Batch: 96, Avg. Loss: 0.0789129720069468\n",
      "Epoch: 8, Batch: 112, Avg. Loss: 0.0751136178150773\n",
      "Epoch: 8, Batch: 128, Avg. Loss: 0.08688524784520268\n",
      "Epoch: 8, Batch: 144, Avg. Loss: 0.08012793771922588\n",
      "Epoch: 8, Batch: 160, Avg. Loss: 0.08469186164438725\n",
      "Epoch: 8, Batch: 176, Avg. Loss: 0.083050167420879\n",
      "Epoch: 8, Batch: 192, Avg. Loss: 0.08607831806875765\n",
      "Epoch: 8, Batch: 208, Avg. Loss: 0.09427572833374143\n",
      "Epoch: 9, Batch: 16, Avg. Loss: 0.08155302330851555\n",
      "Epoch: 9, Batch: 32, Avg. Loss: 0.07557251420803368\n",
      "Epoch: 9, Batch: 48, Avg. Loss: 0.10642946581356227\n",
      "Epoch: 9, Batch: 64, Avg. Loss: 0.08066254737786949\n",
      "Epoch: 9, Batch: 80, Avg. Loss: 0.0857402014080435\n",
      "Epoch: 9, Batch: 96, Avg. Loss: 0.0779530294239521\n",
      "Epoch: 9, Batch: 112, Avg. Loss: 0.07318127644248307\n",
      "Epoch: 9, Batch: 128, Avg. Loss: 0.08428240614011884\n",
      "Epoch: 9, Batch: 144, Avg. Loss: 0.07465954986400902\n",
      "Epoch: 9, Batch: 160, Avg. Loss: 0.0824690624140203\n",
      "Epoch: 9, Batch: 176, Avg. Loss: 0.07943280413746834\n",
      "Epoch: 9, Batch: 192, Avg. Loss: 0.07761781732551754\n",
      "Epoch: 9, Batch: 208, Avg. Loss: 0.07512983656488359\n",
      "Epoch: 10, Batch: 16, Avg. Loss: 0.07665214431472123\n",
      "Epoch: 10, Batch: 32, Avg. Loss: 0.08124096458777785\n",
      "Epoch: 10, Batch: 48, Avg. Loss: 0.07356147305108607\n",
      "Epoch: 10, Batch: 64, Avg. Loss: 0.07586328708566725\n",
      "Epoch: 10, Batch: 80, Avg. Loss: 0.08270311146043241\n",
      "Epoch: 10, Batch: 96, Avg. Loss: 0.0891843440476805\n",
      "Epoch: 10, Batch: 112, Avg. Loss: 0.08123558503575623\n",
      "Epoch: 10, Batch: 128, Avg. Loss: 0.08029779605567455\n",
      "Epoch: 10, Batch: 144, Avg. Loss: 0.08005366567522287\n",
      "Epoch: 10, Batch: 160, Avg. Loss: 0.07399675529450178\n",
      "Epoch: 10, Batch: 176, Avg. Loss: 0.07969866017811\n",
      "Epoch: 10, Batch: 192, Avg. Loss: 0.07671349099837244\n",
      "Epoch: 10, Batch: 208, Avg. Loss: 0.06705820676870644\n",
      "Epoch: 11, Batch: 16, Avg. Loss: 0.07753967540338635\n",
      "Epoch: 11, Batch: 32, Avg. Loss: 0.07826955534983426\n",
      "Epoch: 11, Batch: 48, Avg. Loss: 0.06462634587660432\n",
      "Epoch: 11, Batch: 64, Avg. Loss: 0.08406644756905735\n",
      "Epoch: 11, Batch: 80, Avg. Loss: 0.07718396210111678\n",
      "Epoch: 11, Batch: 96, Avg. Loss: 0.0705881284084171\n",
      "Epoch: 11, Batch: 112, Avg. Loss: 0.08509543701075017\n",
      "Epoch: 11, Batch: 128, Avg. Loss: 0.07796199573203921\n",
      "Epoch: 11, Batch: 144, Avg. Loss: 0.07284996029920876\n",
      "Epoch: 11, Batch: 160, Avg. Loss: 0.07543899095617235\n",
      "Epoch: 11, Batch: 176, Avg. Loss: 0.07176349638029933\n",
      "Epoch: 11, Batch: 192, Avg. Loss: 0.07708418183028698\n",
      "Epoch: 11, Batch: 208, Avg. Loss: 0.07125866087153554\n",
      "Epoch: 12, Batch: 16, Avg. Loss: 0.08465822227299213\n",
      "Epoch: 12, Batch: 32, Avg. Loss: 0.0666310298256576\n",
      "Epoch: 12, Batch: 48, Avg. Loss: 0.08218280924484134\n",
      "Epoch: 12, Batch: 64, Avg. Loss: 0.07248702738434076\n",
      "Epoch: 12, Batch: 80, Avg. Loss: 0.06968535832129419\n",
      "Epoch: 12, Batch: 96, Avg. Loss: 0.06925862771458924\n",
      "Epoch: 12, Batch: 112, Avg. Loss: 0.07802393683232367\n",
      "Epoch: 12, Batch: 128, Avg. Loss: 0.07002399838529527\n",
      "Epoch: 12, Batch: 144, Avg. Loss: 0.06733476114459336\n",
      "Epoch: 12, Batch: 160, Avg. Loss: 0.06735864304937422\n",
      "Epoch: 12, Batch: 176, Avg. Loss: 0.07294574147090316\n",
      "Epoch: 12, Batch: 192, Avg. Loss: 0.07232493301853538\n",
      "Epoch: 12, Batch: 208, Avg. Loss: 0.07035389635711908\n"
     ]
    },
    {
     "name": "stdout",
     "output_type": "stream",
     "text": [
      "Epoch: 13, Batch: 16, Avg. Loss: 0.07382717495784163\n",
      "Epoch: 13, Batch: 32, Avg. Loss: 0.075607321690768\n",
      "Epoch: 13, Batch: 48, Avg. Loss: 0.07515862246509641\n",
      "Epoch: 13, Batch: 64, Avg. Loss: 0.0763570589479059\n",
      "Epoch: 13, Batch: 80, Avg. Loss: 0.07997984369285405\n",
      "Epoch: 13, Batch: 96, Avg. Loss: 0.06437349296174943\n",
      "Epoch: 13, Batch: 112, Avg. Loss: 0.06815539207309484\n",
      "Epoch: 13, Batch: 128, Avg. Loss: 0.08071151911281049\n",
      "Epoch: 13, Batch: 144, Avg. Loss: 0.06618553306907415\n",
      "Epoch: 13, Batch: 160, Avg. Loss: 0.0707600072491914\n",
      "Epoch: 13, Batch: 176, Avg. Loss: 0.07832657219842076\n",
      "Epoch: 13, Batch: 192, Avg. Loss: 0.06709637469612062\n",
      "Epoch: 13, Batch: 208, Avg. Loss: 0.06670980888884515\n",
      "Epoch: 14, Batch: 16, Avg. Loss: 0.07214999943971634\n",
      "Epoch: 14, Batch: 32, Avg. Loss: 0.07292164349928498\n",
      "Epoch: 14, Batch: 48, Avg. Loss: 0.07666446687653661\n",
      "Epoch: 14, Batch: 64, Avg. Loss: 0.07812028704211116\n",
      "Epoch: 14, Batch: 80, Avg. Loss: 0.07444695848971605\n",
      "Epoch: 14, Batch: 96, Avg. Loss: 0.06714275316335261\n",
      "Epoch: 14, Batch: 112, Avg. Loss: 0.07686102739535272\n",
      "Epoch: 14, Batch: 128, Avg. Loss: 0.060325941536575556\n",
      "Epoch: 14, Batch: 144, Avg. Loss: 0.07529567508026958\n",
      "Epoch: 14, Batch: 160, Avg. Loss: 0.06633720989339054\n",
      "Epoch: 14, Batch: 176, Avg. Loss: 0.06827825400978327\n",
      "Epoch: 14, Batch: 192, Avg. Loss: 0.07342504872940481\n",
      "Epoch: 14, Batch: 208, Avg. Loss: 0.07127963658422232\n",
      "Epoch: 15, Batch: 16, Avg. Loss: 0.06639185710810125\n",
      "Epoch: 15, Batch: 32, Avg. Loss: 0.06811523507349193\n",
      "Epoch: 15, Batch: 48, Avg. Loss: 0.06746486155316234\n",
      "Epoch: 15, Batch: 64, Avg. Loss: 0.07192353485152125\n",
      "Epoch: 15, Batch: 80, Avg. Loss: 0.07677504792809486\n",
      "Epoch: 15, Batch: 96, Avg. Loss: 0.06847732025198638\n",
      "Epoch: 15, Batch: 112, Avg. Loss: 0.07017983868718147\n",
      "Epoch: 15, Batch: 128, Avg. Loss: 0.07148354826495051\n",
      "Epoch: 15, Batch: 144, Avg. Loss: 0.0807658841367811\n",
      "Epoch: 15, Batch: 160, Avg. Loss: 0.08301057061180472\n",
      "Epoch: 15, Batch: 176, Avg. Loss: 0.05416163243353367\n",
      "Epoch: 15, Batch: 192, Avg. Loss: 0.07251232583075762\n",
      "Epoch: 15, Batch: 208, Avg. Loss: 0.0716583866160363\n",
      "Epoch: 16, Batch: 16, Avg. Loss: 0.06510337605141103\n",
      "Epoch: 16, Batch: 32, Avg. Loss: 0.07227452425286174\n",
      "Epoch: 16, Batch: 48, Avg. Loss: 0.07943172566592693\n",
      "Epoch: 16, Batch: 64, Avg. Loss: 0.08090096875093877\n",
      "Epoch: 16, Batch: 80, Avg. Loss: 0.05523172323592007\n",
      "Epoch: 16, Batch: 96, Avg. Loss: 0.06819054973311722\n",
      "Epoch: 16, Batch: 112, Avg. Loss: 0.06636439287103713\n",
      "Epoch: 16, Batch: 128, Avg. Loss: 0.06423018779605627\n",
      "Epoch: 16, Batch: 144, Avg. Loss: 0.06749048922210932\n",
      "Epoch: 16, Batch: 160, Avg. Loss: 0.08061692118644714\n",
      "Epoch: 16, Batch: 176, Avg. Loss: 0.06313214241527021\n",
      "Epoch: 16, Batch: 192, Avg. Loss: 0.06861297436989844\n",
      "Epoch: 16, Batch: 208, Avg. Loss: 0.0732542285695672\n",
      "Epoch: 17, Batch: 16, Avg. Loss: 0.06674662558361888\n",
      "Epoch: 17, Batch: 32, Avg. Loss: 0.0582346951123327\n",
      "Epoch: 17, Batch: 48, Avg. Loss: 0.06403028895147145\n",
      "Epoch: 17, Batch: 64, Avg. Loss: 0.06651037267874926\n",
      "Epoch: 17, Batch: 80, Avg. Loss: 0.06168230623006821\n",
      "Epoch: 17, Batch: 96, Avg. Loss: 0.06543366773985326\n",
      "Epoch: 17, Batch: 112, Avg. Loss: 0.06975842290557921\n",
      "Epoch: 17, Batch: 128, Avg. Loss: 0.0551875582896173\n",
      "Epoch: 17, Batch: 144, Avg. Loss: 0.059239039197564125\n",
      "Epoch: 17, Batch: 160, Avg. Loss: 0.06827202090062201\n",
      "Epoch: 17, Batch: 176, Avg. Loss: 0.07472837995737791\n",
      "Epoch: 17, Batch: 192, Avg. Loss: 0.0772781278938055\n",
      "Epoch: 17, Batch: 208, Avg. Loss: 0.06533552519977093\n",
      "Epoch: 18, Batch: 16, Avg. Loss: 0.06652743928134441\n",
      "Epoch: 18, Batch: 32, Avg. Loss: 0.0786486502038315\n",
      "Epoch: 18, Batch: 48, Avg. Loss: 0.06424435367807746\n",
      "Epoch: 18, Batch: 64, Avg. Loss: 0.06725724134594202\n",
      "Epoch: 18, Batch: 80, Avg. Loss: 0.07957059820182621\n",
      "Epoch: 18, Batch: 96, Avg. Loss: 0.06086222338490188\n",
      "Epoch: 18, Batch: 112, Avg. Loss: 0.07031663437373936\n",
      "Epoch: 18, Batch: 128, Avg. Loss: 0.05920093192253262\n",
      "Epoch: 18, Batch: 144, Avg. Loss: 0.07986031076870859\n",
      "Epoch: 18, Batch: 160, Avg. Loss: 0.07073389634024352\n",
      "Epoch: 18, Batch: 176, Avg. Loss: 0.05647719919215888\n",
      "Epoch: 18, Batch: 192, Avg. Loss: 0.06278297235257924\n",
      "Epoch: 18, Batch: 208, Avg. Loss: 0.059909148840233684\n",
      "Epoch: 19, Batch: 16, Avg. Loss: 0.057347863214090466\n",
      "Epoch: 19, Batch: 32, Avg. Loss: 0.07258262974210083\n",
      "Epoch: 19, Batch: 48, Avg. Loss: 0.0672308545326814\n",
      "Epoch: 19, Batch: 64, Avg. Loss: 0.06156222568824887\n",
      "Epoch: 19, Batch: 80, Avg. Loss: 0.0527238545473665\n",
      "Epoch: 19, Batch: 96, Avg. Loss: 0.05602577934041619\n",
      "Epoch: 19, Batch: 112, Avg. Loss: 0.05940331518650055\n",
      "Epoch: 19, Batch: 128, Avg. Loss: 0.07252788334153593\n",
      "Epoch: 19, Batch: 144, Avg. Loss: 0.0683539966121316\n",
      "Epoch: 19, Batch: 160, Avg. Loss: 0.07048020022921264\n",
      "Epoch: 19, Batch: 176, Avg. Loss: 0.05377396917901933\n",
      "Epoch: 19, Batch: 192, Avg. Loss: 0.05722483363933861\n",
      "Epoch: 19, Batch: 208, Avg. Loss: 0.05623227474279702\n",
      "Epoch: 20, Batch: 16, Avg. Loss: 0.04876269516535103\n",
      "Epoch: 20, Batch: 32, Avg. Loss: 0.0645971151534468\n",
      "Epoch: 20, Batch: 48, Avg. Loss: 0.05013407184742391\n",
      "Epoch: 20, Batch: 64, Avg. Loss: 0.06916671292856336\n",
      "Epoch: 20, Batch: 80, Avg. Loss: 0.0746427447302267\n",
      "Epoch: 20, Batch: 96, Avg. Loss: 0.05441390676423907\n",
      "Epoch: 20, Batch: 112, Avg. Loss: 0.06294984882697463\n",
      "Epoch: 20, Batch: 128, Avg. Loss: 0.06732240365818143\n",
      "Epoch: 20, Batch: 144, Avg. Loss: 0.049352194997482\n",
      "Epoch: 20, Batch: 160, Avg. Loss: 0.0551145764766261\n",
      "Epoch: 20, Batch: 176, Avg. Loss: 0.050762780010700226\n",
      "Epoch: 20, Batch: 192, Avg. Loss: 0.06984407175332308\n",
      "Epoch: 20, Batch: 208, Avg. Loss: 0.0510062895482406\n",
      "Epoch: 21, Batch: 16, Avg. Loss: 0.05534455075394362\n",
      "Epoch: 21, Batch: 32, Avg. Loss: 0.06395019334740937\n",
      "Epoch: 21, Batch: 48, Avg. Loss: 0.07052463502623141\n",
      "Epoch: 21, Batch: 64, Avg. Loss: 0.059154797811061144\n",
      "Epoch: 21, Batch: 80, Avg. Loss: 0.05413548613432795\n",
      "Epoch: 21, Batch: 96, Avg. Loss: 0.046502149547450244\n",
      "Epoch: 21, Batch: 112, Avg. Loss: 0.06126370176207274\n",
      "Epoch: 21, Batch: 128, Avg. Loss: 0.05171122157480568\n",
      "Epoch: 21, Batch: 144, Avg. Loss: 0.05652938748244196\n",
      "Epoch: 21, Batch: 160, Avg. Loss: 0.05651121772825718\n",
      "Epoch: 21, Batch: 176, Avg. Loss: 0.0509281501872465\n",
      "Epoch: 21, Batch: 192, Avg. Loss: 0.059484797064214945\n",
      "Epoch: 21, Batch: 208, Avg. Loss: 0.04835665097925812\n",
      "Epoch: 22, Batch: 16, Avg. Loss: 0.063267323654145\n",
      "Epoch: 22, Batch: 32, Avg. Loss: 0.05037922947667539\n",
      "Epoch: 22, Batch: 48, Avg. Loss: 0.06586189789231867\n",
      "Epoch: 22, Batch: 64, Avg. Loss: 0.05172116938047111\n",
      "Epoch: 22, Batch: 80, Avg. Loss: 0.06030062027275562\n",
      "Epoch: 22, Batch: 96, Avg. Loss: 0.05207095749210566\n",
      "Epoch: 22, Batch: 112, Avg. Loss: 0.05320669314824045\n",
      "Epoch: 22, Batch: 128, Avg. Loss: 0.06485645310021937\n",
      "Epoch: 22, Batch: 144, Avg. Loss: 0.0514325718395412\n",
      "Epoch: 22, Batch: 160, Avg. Loss: 0.05408105719834566\n",
      "Epoch: 22, Batch: 176, Avg. Loss: 0.05992635420989245\n",
      "Epoch: 22, Batch: 192, Avg. Loss: 0.05146835697814822\n",
      "Epoch: 22, Batch: 208, Avg. Loss: 0.05427137587685138\n",
      "Epoch: 23, Batch: 16, Avg. Loss: 0.053559094900265336\n",
      "Epoch: 23, Batch: 32, Avg. Loss: 0.05128240224439651\n",
      "Epoch: 23, Batch: 48, Avg. Loss: 0.0546724540181458\n",
      "Epoch: 23, Batch: 64, Avg. Loss: 0.05288806708995253\n",
      "Epoch: 23, Batch: 80, Avg. Loss: 0.05201684555504471\n",
      "Epoch: 23, Batch: 96, Avg. Loss: 0.05083797394763678\n",
      "Epoch: 23, Batch: 112, Avg. Loss: 0.07103728363290429\n",
      "Epoch: 23, Batch: 128, Avg. Loss: 0.06038783537223935\n",
      "Epoch: 23, Batch: 144, Avg. Loss: 0.054255094029940665\n",
      "Epoch: 23, Batch: 160, Avg. Loss: 0.057785268290899694\n",
      "Epoch: 23, Batch: 176, Avg. Loss: 0.047965025645680726\n",
      "Epoch: 23, Batch: 192, Avg. Loss: 0.04890027514193207\n",
      "Epoch: 23, Batch: 208, Avg. Loss: 0.048497992334887385\n",
      "Epoch: 24, Batch: 16, Avg. Loss: 0.04427353723440319\n",
      "Epoch: 24, Batch: 32, Avg. Loss: 0.045873014838434756\n",
      "Epoch: 24, Batch: 48, Avg. Loss: 0.050158448750153184\n",
      "Epoch: 24, Batch: 64, Avg. Loss: 0.05263323045801371\n",
      "Epoch: 24, Batch: 80, Avg. Loss: 0.054263179772533476\n",
      "Epoch: 24, Batch: 96, Avg. Loss: 0.053229667129926383\n",
      "Epoch: 24, Batch: 112, Avg. Loss: 0.05126032046973705\n",
      "Epoch: 24, Batch: 128, Avg. Loss: 0.043995264801196754\n",
      "Epoch: 24, Batch: 144, Avg. Loss: 0.049021049751900136\n",
      "Epoch: 24, Batch: 160, Avg. Loss: 0.04924082709476352\n",
      "Epoch: 24, Batch: 176, Avg. Loss: 0.04743030830286443\n"
     ]
    },
    {
     "name": "stdout",
     "output_type": "stream",
     "text": [
      "Epoch: 24, Batch: 192, Avg. Loss: 0.0694429308641702\n",
      "Epoch: 24, Batch: 208, Avg. Loss: 0.04859556502196938\n",
      "Epoch: 25, Batch: 16, Avg. Loss: 0.051611459464766085\n",
      "Epoch: 25, Batch: 32, Avg. Loss: 0.04521284787915647\n",
      "Epoch: 25, Batch: 48, Avg. Loss: 0.05704969877842814\n",
      "Epoch: 25, Batch: 64, Avg. Loss: 0.04774435004219413\n",
      "Epoch: 25, Batch: 80, Avg. Loss: 0.04455696337390691\n",
      "Epoch: 25, Batch: 96, Avg. Loss: 0.03928839263971895\n",
      "Epoch: 25, Batch: 112, Avg. Loss: 0.059993872651830316\n",
      "Epoch: 25, Batch: 128, Avg. Loss: 0.0467411947902292\n",
      "Epoch: 25, Batch: 144, Avg. Loss: 0.05685162136796862\n",
      "Epoch: 25, Batch: 160, Avg. Loss: 0.05931858089752495\n",
      "Epoch: 25, Batch: 176, Avg. Loss: 0.04610460833646357\n",
      "Epoch: 25, Batch: 192, Avg. Loss: 0.05247360235080123\n",
      "Epoch: 25, Batch: 208, Avg. Loss: 0.04812067421153188\n",
      "Epoch: 26, Batch: 16, Avg. Loss: 0.036836482235230505\n",
      "Epoch: 26, Batch: 32, Avg. Loss: 0.04368386697024107\n",
      "Epoch: 26, Batch: 48, Avg. Loss: 0.051069799228571355\n",
      "Epoch: 26, Batch: 64, Avg. Loss: 0.047672167886048555\n",
      "Epoch: 26, Batch: 80, Avg. Loss: 0.04653039900586009\n",
      "Epoch: 26, Batch: 96, Avg. Loss: 0.0443561733700335\n",
      "Epoch: 26, Batch: 112, Avg. Loss: 0.04533230548258871\n",
      "Epoch: 26, Batch: 128, Avg. Loss: 0.046798967639915645\n",
      "Epoch: 26, Batch: 144, Avg. Loss: 0.062284031650051475\n",
      "Epoch: 26, Batch: 160, Avg. Loss: 0.053489176207222044\n",
      "Epoch: 26, Batch: 176, Avg. Loss: 0.04596487514209002\n",
      "Epoch: 26, Batch: 192, Avg. Loss: 0.04015805502422154\n",
      "Epoch: 26, Batch: 208, Avg. Loss: 0.03980315802618861\n",
      "Epoch: 27, Batch: 16, Avg. Loss: 0.04290835408028215\n",
      "Epoch: 27, Batch: 32, Avg. Loss: 0.061045188340358436\n",
      "Epoch: 27, Batch: 48, Avg. Loss: 0.04189702356234193\n",
      "Epoch: 27, Batch: 64, Avg. Loss: 0.041318864678032696\n",
      "Epoch: 27, Batch: 80, Avg. Loss: 0.04819236497860402\n",
      "Epoch: 27, Batch: 96, Avg. Loss: 0.04076721169985831\n",
      "Epoch: 27, Batch: 112, Avg. Loss: 0.042536353575997055\n",
      "Epoch: 27, Batch: 128, Avg. Loss: 0.05294260731898248\n",
      "Epoch: 27, Batch: 144, Avg. Loss: 0.04587334976531565\n",
      "Epoch: 27, Batch: 160, Avg. Loss: 0.05269501986913383\n",
      "Epoch: 27, Batch: 176, Avg. Loss: 0.04247335344552994\n",
      "Epoch: 27, Batch: 192, Avg. Loss: 0.04627827741205692\n",
      "Epoch: 27, Batch: 208, Avg. Loss: 0.04268805938772857\n",
      "Epoch: 28, Batch: 16, Avg. Loss: 0.043625191668979824\n",
      "Epoch: 28, Batch: 32, Avg. Loss: 0.045141980168409646\n",
      "Epoch: 28, Batch: 48, Avg. Loss: 0.03985976323019713\n",
      "Epoch: 28, Batch: 64, Avg. Loss: 0.05824574548751116\n",
      "Epoch: 28, Batch: 80, Avg. Loss: 0.04326667543500662\n",
      "Epoch: 28, Batch: 96, Avg. Loss: 0.043859326164238155\n",
      "Epoch: 28, Batch: 112, Avg. Loss: 0.04903510492295027\n",
      "Epoch: 28, Batch: 128, Avg. Loss: 0.045336805866099894\n",
      "Epoch: 28, Batch: 144, Avg. Loss: 0.050533047528006136\n",
      "Epoch: 28, Batch: 160, Avg. Loss: 0.037149783223867416\n",
      "Epoch: 28, Batch: 176, Avg. Loss: 0.04749302309937775\n",
      "Epoch: 28, Batch: 192, Avg. Loss: 0.043639326584525406\n",
      "Epoch: 28, Batch: 208, Avg. Loss: 0.04708785249385983\n",
      "Epoch: 29, Batch: 16, Avg. Loss: 0.04400373937096447\n",
      "Epoch: 29, Batch: 32, Avg. Loss: 0.0404031986836344\n",
      "Epoch: 29, Batch: 48, Avg. Loss: 0.04633849626407027\n",
      "Epoch: 29, Batch: 64, Avg. Loss: 0.03837583749555051\n",
      "Epoch: 29, Batch: 80, Avg. Loss: 0.04702967149205506\n",
      "Epoch: 29, Batch: 96, Avg. Loss: 0.03882843675091863\n",
      "Epoch: 29, Batch: 112, Avg. Loss: 0.046157828299328685\n",
      "Epoch: 29, Batch: 128, Avg. Loss: 0.053054730873554945\n",
      "Epoch: 29, Batch: 144, Avg. Loss: 0.04375315201468766\n",
      "Epoch: 29, Batch: 160, Avg. Loss: 0.04094384971540421\n",
      "Epoch: 29, Batch: 176, Avg. Loss: 0.04401853017043322\n",
      "Epoch: 29, Batch: 192, Avg. Loss: 0.04364818928297609\n",
      "Epoch: 29, Batch: 208, Avg. Loss: 0.04363630746956915\n",
      "Epoch: 30, Batch: 16, Avg. Loss: 0.03994700394105166\n",
      "Epoch: 30, Batch: 32, Avg. Loss: 0.04133762454148382\n",
      "Epoch: 30, Batch: 48, Avg. Loss: 0.0415558316744864\n",
      "Epoch: 30, Batch: 64, Avg. Loss: 0.03662200947292149\n",
      "Epoch: 30, Batch: 80, Avg. Loss: 0.03862938430393115\n",
      "Epoch: 30, Batch: 96, Avg. Loss: 0.036497660796158016\n",
      "Epoch: 30, Batch: 112, Avg. Loss: 0.03963656420819461\n",
      "Epoch: 30, Batch: 128, Avg. Loss: 0.038395740441046655\n",
      "Epoch: 30, Batch: 144, Avg. Loss: 0.041304032667540014\n",
      "Epoch: 30, Batch: 160, Avg. Loss: 0.041259072022512555\n",
      "Epoch: 30, Batch: 176, Avg. Loss: 0.04441954044159502\n",
      "Epoch: 30, Batch: 192, Avg. Loss: 0.05086485005449504\n",
      "Epoch: 30, Batch: 208, Avg. Loss: 0.04118959209881723\n",
      "Epoch: 31, Batch: 16, Avg. Loss: 0.05008953146170825\n",
      "Epoch: 31, Batch: 32, Avg. Loss: 0.038724767277017236\n",
      "Epoch: 31, Batch: 48, Avg. Loss: 0.03725958883296698\n",
      "Epoch: 31, Batch: 64, Avg. Loss: 0.03764043585397303\n",
      "Epoch: 31, Batch: 80, Avg. Loss: 0.04466394311748445\n",
      "Epoch: 31, Batch: 96, Avg. Loss: 0.037555566406808794\n",
      "Epoch: 31, Batch: 112, Avg. Loss: 0.046398797538131475\n",
      "Epoch: 31, Batch: 128, Avg. Loss: 0.043692363309673965\n",
      "Epoch: 31, Batch: 144, Avg. Loss: 0.03464147332124412\n",
      "Epoch: 31, Batch: 160, Avg. Loss: 0.040075338911265135\n",
      "Epoch: 31, Batch: 176, Avg. Loss: 0.04352168506011367\n",
      "Epoch: 31, Batch: 192, Avg. Loss: 0.040699305245652795\n",
      "Epoch: 31, Batch: 208, Avg. Loss: 0.040511897997930646\n",
      "Epoch: 32, Batch: 16, Avg. Loss: 0.04158178728539497\n",
      "Epoch: 32, Batch: 32, Avg. Loss: 0.03559076285455376\n",
      "Epoch: 32, Batch: 48, Avg. Loss: 0.04065049288328737\n",
      "Epoch: 32, Batch: 64, Avg. Loss: 0.037266220431774855\n",
      "Epoch: 32, Batch: 80, Avg. Loss: 0.04050370375625789\n",
      "Epoch: 32, Batch: 96, Avg. Loss: 0.036165012046694756\n",
      "Epoch: 32, Batch: 112, Avg. Loss: 0.05041090410668403\n",
      "Epoch: 32, Batch: 128, Avg. Loss: 0.04177539166994393\n",
      "Epoch: 32, Batch: 144, Avg. Loss: 0.045310059445910156\n",
      "Epoch: 32, Batch: 160, Avg. Loss: 0.05067635863088071\n",
      "Epoch: 32, Batch: 176, Avg. Loss: 0.04376389610115439\n",
      "Epoch: 32, Batch: 192, Avg. Loss: 0.03583984775468707\n",
      "Epoch: 32, Batch: 208, Avg. Loss: 0.033622603048570454\n",
      "Epoch: 33, Batch: 16, Avg. Loss: 0.03444838721770793\n",
      "Epoch: 33, Batch: 32, Avg. Loss: 0.032478206907399\n",
      "Epoch: 33, Batch: 48, Avg. Loss: 0.04150737763848156\n",
      "Epoch: 33, Batch: 64, Avg. Loss: 0.035398852080106735\n",
      "Epoch: 33, Batch: 80, Avg. Loss: 0.04419422906357795\n",
      "Epoch: 33, Batch: 96, Avg. Loss: 0.045486260671168566\n",
      "Epoch: 33, Batch: 112, Avg. Loss: 0.03866056690458208\n",
      "Epoch: 33, Batch: 128, Avg. Loss: 0.04191078804433346\n",
      "Epoch: 33, Batch: 144, Avg. Loss: 0.045183517737314105\n",
      "Epoch: 33, Batch: 160, Avg. Loss: 0.04796387848909944\n",
      "Epoch: 33, Batch: 176, Avg. Loss: 0.04073731950484216\n",
      "Epoch: 33, Batch: 192, Avg. Loss: 0.038171454914845526\n",
      "Epoch: 33, Batch: 208, Avg. Loss: 0.03700267605017871\n",
      "Epoch: 34, Batch: 16, Avg. Loss: 0.034317209967412055\n",
      "Epoch: 34, Batch: 32, Avg. Loss: 0.04283251485321671\n",
      "Epoch: 34, Batch: 48, Avg. Loss: 0.046961242449469864\n",
      "Epoch: 34, Batch: 64, Avg. Loss: 0.05136144731659442\n",
      "Epoch: 34, Batch: 80, Avg. Loss: 0.041471621894743294\n",
      "Epoch: 34, Batch: 96, Avg. Loss: 0.038580793305300176\n",
      "Epoch: 34, Batch: 112, Avg. Loss: 0.03927576064597815\n",
      "Epoch: 34, Batch: 128, Avg. Loss: 0.03765233210287988\n",
      "Epoch: 34, Batch: 144, Avg. Loss: 0.0370853355852887\n",
      "Epoch: 34, Batch: 160, Avg. Loss: 0.038868808071129024\n",
      "Epoch: 34, Batch: 176, Avg. Loss: 0.036456358211580664\n",
      "Epoch: 34, Batch: 192, Avg. Loss: 0.037219795980490744\n",
      "Epoch: 34, Batch: 208, Avg. Loss: 0.03383568348363042\n",
      "Epoch: 35, Batch: 16, Avg. Loss: 0.044092584401369095\n",
      "Epoch: 35, Batch: 32, Avg. Loss: 0.03797561698593199\n",
      "Epoch: 35, Batch: 48, Avg. Loss: 0.03568833926692605\n",
      "Epoch: 35, Batch: 64, Avg. Loss: 0.03921457938849926\n",
      "Epoch: 35, Batch: 80, Avg. Loss: 0.03382676874753088\n",
      "Epoch: 35, Batch: 96, Avg. Loss: 0.043137021362781525\n",
      "Epoch: 35, Batch: 112, Avg. Loss: 0.04278752370737493\n",
      "Epoch: 35, Batch: 128, Avg. Loss: 0.028623841586522758\n",
      "Epoch: 35, Batch: 144, Avg. Loss: 0.04178289987612516\n",
      "Epoch: 35, Batch: 160, Avg. Loss: 0.03660788445267826\n",
      "Epoch: 35, Batch: 176, Avg. Loss: 0.03778757120016962\n",
      "Epoch: 35, Batch: 192, Avg. Loss: 0.04244176752399653\n",
      "Epoch: 35, Batch: 208, Avg. Loss: 0.03367925330530852\n",
      "Epoch: 36, Batch: 16, Avg. Loss: 0.04722290311474353\n",
      "Epoch: 36, Batch: 32, Avg. Loss: 0.031633802223950624\n",
      "Epoch: 36, Batch: 48, Avg. Loss: 0.032650652225129306\n",
      "Epoch: 36, Batch: 64, Avg. Loss: 0.03899323369842023\n",
      "Epoch: 36, Batch: 80, Avg. Loss: 0.04054437711602077\n",
      "Epoch: 36, Batch: 96, Avg. Loss: 0.03719202580396086\n",
      "Epoch: 36, Batch: 112, Avg. Loss: 0.03121353138703853\n",
      "Epoch: 36, Batch: 128, Avg. Loss: 0.03139113599900156\n"
     ]
    },
    {
     "name": "stdout",
     "output_type": "stream",
     "text": [
      "Epoch: 36, Batch: 144, Avg. Loss: 0.048523453006055206\n",
      "Epoch: 36, Batch: 160, Avg. Loss: 0.03753166436217725\n",
      "Epoch: 36, Batch: 176, Avg. Loss: 0.03493938595056534\n",
      "Epoch: 36, Batch: 192, Avg. Loss: 0.046523034921847284\n",
      "Epoch: 36, Batch: 208, Avg. Loss: 0.03271887672599405\n",
      "Epoch: 37, Batch: 16, Avg. Loss: 0.04067892278544605\n",
      "Epoch: 37, Batch: 32, Avg. Loss: 0.03930610709358007\n",
      "Epoch: 37, Batch: 48, Avg. Loss: 0.038526733638718724\n",
      "Epoch: 37, Batch: 64, Avg. Loss: 0.047568743117153645\n",
      "Epoch: 37, Batch: 80, Avg. Loss: 0.035977690014988184\n",
      "Epoch: 37, Batch: 96, Avg. Loss: 0.04283049807418138\n",
      "Epoch: 37, Batch: 112, Avg. Loss: 0.03910256992094219\n",
      "Epoch: 37, Batch: 128, Avg. Loss: 0.03232576313894242\n",
      "Epoch: 37, Batch: 144, Avg. Loss: 0.0320491106249392\n",
      "Epoch: 37, Batch: 160, Avg. Loss: 0.036316154641099274\n",
      "Epoch: 37, Batch: 176, Avg. Loss: 0.03594941564369947\n",
      "Epoch: 37, Batch: 192, Avg. Loss: 0.03535664430819452\n",
      "Epoch: 37, Batch: 208, Avg. Loss: 0.03596765117254108\n",
      "Epoch: 38, Batch: 16, Avg. Loss: 0.043568559689447284\n",
      "Epoch: 38, Batch: 32, Avg. Loss: 0.028552162344567478\n",
      "Epoch: 38, Batch: 48, Avg. Loss: 0.032798229600302875\n",
      "Epoch: 38, Batch: 64, Avg. Loss: 0.03341435140464455\n",
      "Epoch: 38, Batch: 80, Avg. Loss: 0.04100109275896102\n",
      "Epoch: 38, Batch: 96, Avg. Loss: 0.030089157284237444\n",
      "Epoch: 38, Batch: 112, Avg. Loss: 0.03545690490864217\n",
      "Epoch: 38, Batch: 128, Avg. Loss: 0.04199343052459881\n",
      "Epoch: 38, Batch: 144, Avg. Loss: 0.037282137549482286\n",
      "Epoch: 38, Batch: 160, Avg. Loss: 0.03764639177825302\n",
      "Epoch: 38, Batch: 176, Avg. Loss: 0.029899252811446786\n",
      "Epoch: 38, Batch: 192, Avg. Loss: 0.03333252563606948\n",
      "Epoch: 38, Batch: 208, Avg. Loss: 0.03903028124477714\n",
      "Epoch: 39, Batch: 16, Avg. Loss: 0.03990045021055266\n",
      "Epoch: 39, Batch: 32, Avg. Loss: 0.03658269683364779\n",
      "Epoch: 39, Batch: 48, Avg. Loss: 0.04084989952389151\n",
      "Epoch: 39, Batch: 64, Avg. Loss: 0.03108470980077982\n",
      "Epoch: 39, Batch: 80, Avg. Loss: 0.0387969005969353\n",
      "Epoch: 39, Batch: 96, Avg. Loss: 0.03604875679593533\n",
      "Epoch: 39, Batch: 112, Avg. Loss: 0.034279669634997845\n",
      "Epoch: 39, Batch: 128, Avg. Loss: 0.03180816175881773\n",
      "Epoch: 39, Batch: 144, Avg. Loss: 0.044236751389689744\n",
      "Epoch: 39, Batch: 160, Avg. Loss: 0.043137738830409944\n",
      "Epoch: 39, Batch: 176, Avg. Loss: 0.03611984383314848\n",
      "Epoch: 39, Batch: 192, Avg. Loss: 0.03409483807627112\n",
      "Epoch: 39, Batch: 208, Avg. Loss: 0.03233977220952511\n",
      "Epoch: 40, Batch: 16, Avg. Loss: 0.03460788377560675\n",
      "Epoch: 40, Batch: 32, Avg. Loss: 0.040716658579185605\n",
      "Epoch: 40, Batch: 48, Avg. Loss: 0.03098680661059916\n",
      "Epoch: 40, Batch: 64, Avg. Loss: 0.03456532838754356\n",
      "Epoch: 40, Batch: 80, Avg. Loss: 0.0335468293633312\n",
      "Epoch: 40, Batch: 96, Avg. Loss: 0.02826020249631256\n",
      "Epoch: 40, Batch: 112, Avg. Loss: 0.04684238589834422\n",
      "Epoch: 40, Batch: 128, Avg. Loss: 0.034080812241882086\n",
      "Epoch: 40, Batch: 144, Avg. Loss: 0.037763001630082726\n",
      "Epoch: 40, Batch: 160, Avg. Loss: 0.04449987434782088\n",
      "Epoch: 40, Batch: 176, Avg. Loss: 0.035026789526455104\n",
      "Epoch: 40, Batch: 192, Avg. Loss: 0.03695645497646183\n",
      "Epoch: 40, Batch: 208, Avg. Loss: 0.031641134642995894\n",
      "Epoch: 41, Batch: 16, Avg. Loss: 0.03621096647111699\n",
      "Epoch: 41, Batch: 32, Avg. Loss: 0.03204153978731483\n",
      "Epoch: 41, Batch: 48, Avg. Loss: 0.035174933495000005\n",
      "Epoch: 41, Batch: 64, Avg. Loss: 0.03153493464924395\n",
      "Epoch: 41, Batch: 80, Avg. Loss: 0.030102611635811627\n",
      "Epoch: 41, Batch: 96, Avg. Loss: 0.03556556871626526\n",
      "Epoch: 41, Batch: 112, Avg. Loss: 0.04278229200281203\n",
      "Epoch: 41, Batch: 128, Avg. Loss: 0.04227504646405578\n",
      "Epoch: 41, Batch: 144, Avg. Loss: 0.039796855533495545\n",
      "Epoch: 41, Batch: 160, Avg. Loss: 0.0326707623898983\n",
      "Epoch: 41, Batch: 176, Avg. Loss: 0.035745334869716316\n",
      "Epoch: 41, Batch: 192, Avg. Loss: 0.03797890688292682\n",
      "Epoch: 41, Batch: 208, Avg. Loss: 0.032282336615026\n",
      "Epoch: 42, Batch: 16, Avg. Loss: 0.030654035392217338\n",
      "Epoch: 42, Batch: 32, Avg. Loss: 0.03662092937156558\n",
      "Epoch: 42, Batch: 48, Avg. Loss: 0.04230865533463657\n",
      "Epoch: 42, Batch: 64, Avg. Loss: 0.03446241992060095\n",
      "Epoch: 42, Batch: 80, Avg. Loss: 0.02763286721892655\n",
      "Epoch: 42, Batch: 96, Avg. Loss: 0.03832197317387909\n",
      "Epoch: 42, Batch: 112, Avg. Loss: 0.028290699352510273\n",
      "Epoch: 42, Batch: 128, Avg. Loss: 0.03557681234087795\n",
      "Epoch: 42, Batch: 144, Avg. Loss: 0.02720447664614767\n",
      "Epoch: 42, Batch: 160, Avg. Loss: 0.035305195895489305\n",
      "Epoch: 42, Batch: 176, Avg. Loss: 0.03414514777250588\n",
      "Epoch: 42, Batch: 192, Avg. Loss: 0.03903065074700862\n",
      "Epoch: 42, Batch: 208, Avg. Loss: 0.03711059165652841\n",
      "Epoch: 43, Batch: 16, Avg. Loss: 0.034644404193386436\n",
      "Epoch: 43, Batch: 32, Avg. Loss: 0.044899055967107415\n",
      "Epoch: 43, Batch: 48, Avg. Loss: 0.03496691328473389\n",
      "Epoch: 43, Batch: 64, Avg. Loss: 0.03363031102344394\n",
      "Epoch: 43, Batch: 80, Avg. Loss: 0.03263530635740608\n",
      "Epoch: 43, Batch: 96, Avg. Loss: 0.03792592044919729\n",
      "Epoch: 43, Batch: 112, Avg. Loss: 0.03151988540776074\n",
      "Epoch: 43, Batch: 128, Avg. Loss: 0.03897387790493667\n",
      "Epoch: 43, Batch: 144, Avg. Loss: 0.0276265888242051\n",
      "Epoch: 43, Batch: 160, Avg. Loss: 0.03484075143933296\n",
      "Epoch: 43, Batch: 176, Avg. Loss: 0.04715170618146658\n",
      "Epoch: 43, Batch: 192, Avg. Loss: 0.029247060068883002\n",
      "Epoch: 43, Batch: 208, Avg. Loss: 0.027296639746055007\n",
      "Epoch: 44, Batch: 16, Avg. Loss: 0.034887441142927855\n",
      "Epoch: 44, Batch: 32, Avg. Loss: 0.04162669519428164\n",
      "Epoch: 44, Batch: 48, Avg. Loss: 0.0336357761407271\n",
      "Epoch: 44, Batch: 64, Avg. Loss: 0.02801727398764342\n",
      "Epoch: 44, Batch: 80, Avg. Loss: 0.03606885578483343\n",
      "Epoch: 44, Batch: 96, Avg. Loss: 0.034391243127174675\n",
      "Epoch: 44, Batch: 112, Avg. Loss: 0.030755736748687923\n",
      "Epoch: 44, Batch: 128, Avg. Loss: 0.023940647079143673\n",
      "Epoch: 44, Batch: 144, Avg. Loss: 0.037529924302361906\n",
      "Epoch: 44, Batch: 160, Avg. Loss: 0.02775153605034575\n",
      "Epoch: 44, Batch: 176, Avg. Loss: 0.03887448203749955\n",
      "Epoch: 44, Batch: 192, Avg. Loss: 0.028850896458607167\n",
      "Epoch: 44, Batch: 208, Avg. Loss: 0.042662096908316016\n",
      "Epoch: 45, Batch: 16, Avg. Loss: 0.02891465660650283\n",
      "Epoch: 45, Batch: 32, Avg. Loss: 0.030462129798252136\n",
      "Epoch: 45, Batch: 48, Avg. Loss: 0.03451361658517271\n",
      "Epoch: 45, Batch: 64, Avg. Loss: 0.04410049365833402\n",
      "Epoch: 45, Batch: 80, Avg. Loss: 0.02866702078608796\n",
      "Epoch: 45, Batch: 96, Avg. Loss: 0.02985502063529566\n",
      "Epoch: 45, Batch: 112, Avg. Loss: 0.034626333974301815\n",
      "Epoch: 45, Batch: 128, Avg. Loss: 0.03174871241208166\n",
      "Epoch: 45, Batch: 144, Avg. Loss: 0.035168422502465546\n",
      "Epoch: 45, Batch: 160, Avg. Loss: 0.04132373403990641\n",
      "Epoch: 45, Batch: 176, Avg. Loss: 0.03412336949259043\n",
      "Epoch: 45, Batch: 192, Avg. Loss: 0.032573090109508485\n",
      "Epoch: 45, Batch: 208, Avg. Loss: 0.03740033745998517\n",
      "Epoch: 46, Batch: 16, Avg. Loss: 0.030078150215558708\n",
      "Epoch: 46, Batch: 32, Avg. Loss: 0.030235677724704146\n",
      "Epoch: 46, Batch: 48, Avg. Loss: 0.02773686178261414\n",
      "Epoch: 46, Batch: 64, Avg. Loss: 0.030397009453736246\n",
      "Epoch: 46, Batch: 80, Avg. Loss: 0.039708508527837694\n",
      "Epoch: 46, Batch: 96, Avg. Loss: 0.028828779817558825\n",
      "Epoch: 46, Batch: 112, Avg. Loss: 0.039494199212640524\n",
      "Epoch: 46, Batch: 128, Avg. Loss: 0.03855948301497847\n",
      "Epoch: 46, Batch: 144, Avg. Loss: 0.046384498360566795\n",
      "Epoch: 46, Batch: 160, Avg. Loss: 0.03175416216254234\n",
      "Epoch: 46, Batch: 176, Avg. Loss: 0.027759214921388775\n",
      "Epoch: 46, Batch: 192, Avg. Loss: 0.030183109338395298\n",
      "Epoch: 46, Batch: 208, Avg. Loss: 0.03885191597510129\n",
      "Epoch: 47, Batch: 16, Avg. Loss: 0.027925193426199257\n",
      "Epoch: 47, Batch: 32, Avg. Loss: 0.032568094437010586\n",
      "Epoch: 47, Batch: 48, Avg. Loss: 0.03191000927472487\n",
      "Epoch: 47, Batch: 64, Avg. Loss: 0.026772329467348754\n",
      "Epoch: 47, Batch: 80, Avg. Loss: 0.03270704753231257\n",
      "Epoch: 47, Batch: 96, Avg. Loss: 0.03251559822820127\n",
      "Epoch: 47, Batch: 112, Avg. Loss: 0.032849224167875946\n",
      "Epoch: 47, Batch: 128, Avg. Loss: 0.035072340397164226\n",
      "Epoch: 47, Batch: 144, Avg. Loss: 0.03400566789787263\n",
      "Epoch: 47, Batch: 160, Avg. Loss: 0.027034214115701616\n",
      "Epoch: 47, Batch: 176, Avg. Loss: 0.029576664266642183\n",
      "Epoch: 47, Batch: 192, Avg. Loss: 0.026153950369916856\n",
      "Epoch: 47, Batch: 208, Avg. Loss: 0.028862697072327137\n",
      "Epoch: 48, Batch: 16, Avg. Loss: 0.031569375190883875\n",
      "Epoch: 48, Batch: 32, Avg. Loss: 0.028392800828441978\n",
      "Epoch: 48, Batch: 48, Avg. Loss: 0.028459746506996453\n",
      "Epoch: 48, Batch: 64, Avg. Loss: 0.03569802740821615\n"
     ]
    },
    {
     "name": "stdout",
     "output_type": "stream",
     "text": [
      "Epoch: 48, Batch: 80, Avg. Loss: 0.040352942305617034\n",
      "Epoch: 48, Batch: 96, Avg. Loss: 0.038635180331766605\n",
      "Epoch: 48, Batch: 112, Avg. Loss: 0.026925886049866676\n",
      "Epoch: 48, Batch: 128, Avg. Loss: 0.028984661446884274\n",
      "Epoch: 48, Batch: 144, Avg. Loss: 0.0293074055807665\n",
      "Epoch: 48, Batch: 160, Avg. Loss: 0.02415247168391943\n",
      "Epoch: 48, Batch: 176, Avg. Loss: 0.03399662737501785\n",
      "Epoch: 48, Batch: 192, Avg. Loss: 0.032676738104783\n",
      "Epoch: 48, Batch: 208, Avg. Loss: 0.029081833665259182\n",
      "Epoch: 49, Batch: 16, Avg. Loss: 0.03289457282517105\n",
      "Epoch: 49, Batch: 32, Avg. Loss: 0.028145825781393796\n",
      "Epoch: 49, Batch: 48, Avg. Loss: 0.03519245295319706\n",
      "Epoch: 49, Batch: 64, Avg. Loss: 0.04437983257230371\n",
      "Epoch: 49, Batch: 80, Avg. Loss: 0.030204326438251883\n",
      "Epoch: 49, Batch: 96, Avg. Loss: 0.035432482487522066\n",
      "Epoch: 49, Batch: 112, Avg. Loss: 0.0229384854901582\n",
      "Epoch: 49, Batch: 128, Avg. Loss: 0.032877273682970554\n",
      "Epoch: 49, Batch: 144, Avg. Loss: 0.02606261189794168\n",
      "Epoch: 49, Batch: 160, Avg. Loss: 0.03394544654292986\n",
      "Epoch: 49, Batch: 176, Avg. Loss: 0.029940025880932808\n",
      "Epoch: 49, Batch: 192, Avg. Loss: 0.032093667541630566\n",
      "Epoch: 49, Batch: 208, Avg. Loss: 0.02738744008820504\n",
      "Epoch: 50, Batch: 16, Avg. Loss: 0.03184351330855861\n",
      "Epoch: 50, Batch: 32, Avg. Loss: 0.03179419809021056\n",
      "Epoch: 50, Batch: 48, Avg. Loss: 0.030870600370690227\n",
      "Epoch: 50, Batch: 64, Avg. Loss: 0.037389355595223606\n",
      "Epoch: 50, Batch: 80, Avg. Loss: 0.03257232380565256\n",
      "Epoch: 50, Batch: 96, Avg. Loss: 0.03147248312598094\n",
      "Epoch: 50, Batch: 112, Avg. Loss: 0.03179882722906768\n",
      "Epoch: 50, Batch: 128, Avg. Loss: 0.02897523296996951\n",
      "Epoch: 50, Batch: 144, Avg. Loss: 0.02546136942692101\n",
      "Epoch: 50, Batch: 160, Avg. Loss: 0.037969745171722025\n",
      "Epoch: 50, Batch: 176, Avg. Loss: 0.02807495283195749\n",
      "Epoch: 50, Batch: 192, Avg. Loss: 0.02366762951714918\n",
      "Epoch: 50, Batch: 208, Avg. Loss: 0.03051027876790613\n",
      "Epoch: 51, Batch: 16, Avg. Loss: 0.033027396886609495\n",
      "Epoch: 51, Batch: 32, Avg. Loss: 0.03342092875391245\n",
      "Epoch: 51, Batch: 48, Avg. Loss: 0.033165220578666776\n",
      "Epoch: 51, Batch: 64, Avg. Loss: 0.027777866693213582\n",
      "Epoch: 51, Batch: 80, Avg. Loss: 0.04081629804568365\n",
      "Epoch: 51, Batch: 96, Avg. Loss: 0.025351117365062237\n",
      "Epoch: 51, Batch: 112, Avg. Loss: 0.028677482157945633\n",
      "Epoch: 51, Batch: 128, Avg. Loss: 0.026766759518068284\n",
      "Epoch: 51, Batch: 144, Avg. Loss: 0.03706176136620343\n",
      "Epoch: 51, Batch: 160, Avg. Loss: 0.03186825825832784\n",
      "Epoch: 51, Batch: 176, Avg. Loss: 0.029767822241410613\n",
      "Epoch: 51, Batch: 192, Avg. Loss: 0.029526223486755043\n",
      "Epoch: 51, Batch: 208, Avg. Loss: 0.024346851743757725\n",
      "Epoch: 52, Batch: 16, Avg. Loss: 0.03379936423152685\n",
      "Epoch: 52, Batch: 32, Avg. Loss: 0.030696869012899697\n",
      "Epoch: 52, Batch: 48, Avg. Loss: 0.03322736272821203\n",
      "Epoch: 52, Batch: 64, Avg. Loss: 0.033624099218286574\n",
      "Epoch: 52, Batch: 80, Avg. Loss: 0.025333782250527292\n",
      "Epoch: 52, Batch: 96, Avg. Loss: 0.02572244417387992\n",
      "Epoch: 52, Batch: 112, Avg. Loss: 0.033309929189272225\n",
      "Epoch: 52, Batch: 128, Avg. Loss: 0.03531474433839321\n",
      "Epoch: 52, Batch: 144, Avg. Loss: 0.027719956531655043\n",
      "Epoch: 52, Batch: 160, Avg. Loss: 0.032181135728023946\n",
      "Epoch: 52, Batch: 176, Avg. Loss: 0.03364754107315093\n",
      "Epoch: 52, Batch: 192, Avg. Loss: 0.03126689663622528\n",
      "Epoch: 52, Batch: 208, Avg. Loss: 0.02867949230130762\n",
      "Epoch: 53, Batch: 16, Avg. Loss: 0.03145343152573332\n",
      "Epoch: 53, Batch: 32, Avg. Loss: 0.03375604539178312\n",
      "Epoch: 53, Batch: 48, Avg. Loss: 0.04482289694715291\n",
      "Epoch: 53, Batch: 64, Avg. Loss: 0.02584376576123759\n",
      "Epoch: 53, Batch: 80, Avg. Loss: 0.02311006060335785\n",
      "Epoch: 53, Batch: 96, Avg. Loss: 0.035972904530353844\n",
      "Epoch: 53, Batch: 112, Avg. Loss: 0.030787586816586554\n",
      "Epoch: 53, Batch: 128, Avg. Loss: 0.026042691548354924\n",
      "Epoch: 53, Batch: 144, Avg. Loss: 0.029144455213099718\n",
      "Epoch: 53, Batch: 160, Avg. Loss: 0.029708967660553753\n",
      "Epoch: 53, Batch: 176, Avg. Loss: 0.033752235176507384\n",
      "Epoch: 53, Batch: 192, Avg. Loss: 0.02606916055083275\n",
      "Epoch: 53, Batch: 208, Avg. Loss: 0.024062603246420622\n",
      "Epoch: 54, Batch: 16, Avg. Loss: 0.024696952546946704\n",
      "Epoch: 54, Batch: 32, Avg. Loss: 0.02745935309212655\n",
      "Epoch: 54, Batch: 48, Avg. Loss: 0.025427814689464867\n",
      "Epoch: 54, Batch: 64, Avg. Loss: 0.03977707424201071\n",
      "Epoch: 54, Batch: 80, Avg. Loss: 0.03035228024236858\n",
      "Epoch: 54, Batch: 96, Avg. Loss: 0.023979831021279097\n",
      "Epoch: 54, Batch: 112, Avg. Loss: 0.03179949847981334\n",
      "Epoch: 54, Batch: 128, Avg. Loss: 0.033217406016774476\n",
      "Epoch: 54, Batch: 144, Avg. Loss: 0.02599028352415189\n",
      "Epoch: 54, Batch: 160, Avg. Loss: 0.03378507401794195\n",
      "Epoch: 54, Batch: 176, Avg. Loss: 0.025603707996197045\n",
      "Epoch: 54, Batch: 192, Avg. Loss: 0.02677340159425512\n",
      "Epoch: 54, Batch: 208, Avg. Loss: 0.029495764174498618\n",
      "Epoch: 55, Batch: 16, Avg. Loss: 0.028032619215082377\n",
      "Epoch: 55, Batch: 32, Avg. Loss: 0.030595379357691854\n",
      "Epoch: 55, Batch: 48, Avg. Loss: 0.02587850025156513\n",
      "Epoch: 55, Batch: 64, Avg. Loss: 0.029882766597438604\n",
      "Epoch: 55, Batch: 80, Avg. Loss: 0.030271116644144058\n",
      "Epoch: 55, Batch: 96, Avg. Loss: 0.026880118530243635\n",
      "Epoch: 55, Batch: 112, Avg. Loss: 0.025876114785205573\n",
      "Epoch: 55, Batch: 128, Avg. Loss: 0.028996757871937007\n",
      "Epoch: 55, Batch: 144, Avg. Loss: 0.034182555915322155\n",
      "Epoch: 55, Batch: 160, Avg. Loss: 0.033362257410772145\n",
      "Epoch: 55, Batch: 176, Avg. Loss: 0.027489904081448913\n",
      "Epoch: 55, Batch: 192, Avg. Loss: 0.03093277243897319\n",
      "Epoch: 55, Batch: 208, Avg. Loss: 0.030553107906598598\n",
      "Epoch: 56, Batch: 16, Avg. Loss: 0.028148496872745454\n",
      "Epoch: 56, Batch: 32, Avg. Loss: 0.030647991283331066\n",
      "Epoch: 56, Batch: 48, Avg. Loss: 0.035162992076948285\n",
      "Epoch: 56, Batch: 64, Avg. Loss: 0.02371332806069404\n",
      "Epoch: 56, Batch: 80, Avg. Loss: 0.03713025362230837\n",
      "Epoch: 56, Batch: 96, Avg. Loss: 0.025187083636410534\n",
      "Epoch: 56, Batch: 112, Avg. Loss: 0.023266667500138283\n",
      "Epoch: 56, Batch: 128, Avg. Loss: 0.021834149782080203\n",
      "Epoch: 56, Batch: 144, Avg. Loss: 0.024321672972291708\n",
      "Epoch: 56, Batch: 160, Avg. Loss: 0.0237645004526712\n",
      "Epoch: 56, Batch: 176, Avg. Loss: 0.028987057972699404\n",
      "Epoch: 56, Batch: 192, Avg. Loss: 0.030538400635123253\n",
      "Epoch: 56, Batch: 208, Avg. Loss: 0.031139467319007963\n",
      "Epoch: 57, Batch: 16, Avg. Loss: 0.024103330564685166\n",
      "Epoch: 57, Batch: 32, Avg. Loss: 0.026999765599612147\n",
      "Epoch: 57, Batch: 48, Avg. Loss: 0.02762874000472948\n",
      "Epoch: 57, Batch: 64, Avg. Loss: 0.02826314978301525\n",
      "Epoch: 57, Batch: 80, Avg. Loss: 0.023451182700227946\n",
      "Epoch: 57, Batch: 96, Avg. Loss: 0.035833683679811656\n",
      "Epoch: 57, Batch: 112, Avg. Loss: 0.033769628091249615\n",
      "Epoch: 57, Batch: 128, Avg. Loss: 0.027788428007625043\n",
      "Epoch: 57, Batch: 144, Avg. Loss: 0.029975167708471417\n",
      "Epoch: 57, Batch: 160, Avg. Loss: 0.0323543943814002\n",
      "Epoch: 57, Batch: 176, Avg. Loss: 0.030712570354808122\n",
      "Epoch: 57, Batch: 192, Avg. Loss: 0.025894547812640667\n",
      "Epoch: 57, Batch: 208, Avg. Loss: 0.030608534114435315\n",
      "Epoch: 58, Batch: 16, Avg. Loss: 0.029263838077895343\n",
      "Epoch: 58, Batch: 32, Avg. Loss: 0.029444243642501533\n",
      "Epoch: 58, Batch: 48, Avg. Loss: 0.024373356893192977\n",
      "Epoch: 58, Batch: 64, Avg. Loss: 0.03200785629451275\n",
      "Epoch: 58, Batch: 80, Avg. Loss: 0.028611347544938326\n",
      "Epoch: 58, Batch: 96, Avg. Loss: 0.020485180197283626\n",
      "Epoch: 58, Batch: 112, Avg. Loss: 0.03344497847137973\n",
      "Epoch: 58, Batch: 128, Avg. Loss: 0.02419297065353021\n",
      "Epoch: 58, Batch: 144, Avg. Loss: 0.023691272363066673\n",
      "Epoch: 58, Batch: 160, Avg. Loss: 0.03478274535154924\n",
      "Epoch: 58, Batch: 176, Avg. Loss: 0.026939985575154424\n",
      "Epoch: 58, Batch: 192, Avg. Loss: 0.02771346236113459\n",
      "Epoch: 58, Batch: 208, Avg. Loss: 0.023223580967169255\n",
      "Epoch: 59, Batch: 16, Avg. Loss: 0.02729841391555965\n",
      "Epoch: 59, Batch: 32, Avg. Loss: 0.03267671720823273\n",
      "Epoch: 59, Batch: 48, Avg. Loss: 0.027455916453618556\n",
      "Epoch: 59, Batch: 64, Avg. Loss: 0.030064223567023873\n",
      "Epoch: 59, Batch: 80, Avg. Loss: 0.025144381856080145\n",
      "Epoch: 59, Batch: 96, Avg. Loss: 0.020176316669676453\n",
      "Epoch: 59, Batch: 112, Avg. Loss: 0.023444257210940123\n",
      "Epoch: 59, Batch: 128, Avg. Loss: 0.026033789734356105\n",
      "Epoch: 59, Batch: 144, Avg. Loss: 0.025221294490620494\n",
      "Epoch: 59, Batch: 160, Avg. Loss: 0.024411612132098526\n",
      "Epoch: 59, Batch: 176, Avg. Loss: 0.032197108201216906\n",
      "Epoch: 59, Batch: 192, Avg. Loss: 0.02412160305539146\n",
      "Epoch: 59, Batch: 208, Avg. Loss: 0.023879306041635573\n"
     ]
    },
    {
     "name": "stdout",
     "output_type": "stream",
     "text": [
      "Epoch: 60, Batch: 16, Avg. Loss: 0.02312639367301017\n",
      "Epoch: 60, Batch: 32, Avg. Loss: 0.03287125867791474\n",
      "Epoch: 60, Batch: 48, Avg. Loss: 0.027385057997889817\n",
      "Epoch: 60, Batch: 64, Avg. Loss: 0.028432373539544642\n",
      "Epoch: 60, Batch: 80, Avg. Loss: 0.022124351700767875\n",
      "Epoch: 60, Batch: 96, Avg. Loss: 0.021026022091973573\n",
      "Epoch: 60, Batch: 112, Avg. Loss: 0.021883074834477156\n",
      "Epoch: 60, Batch: 128, Avg. Loss: 0.020431754004675895\n",
      "Epoch: 60, Batch: 144, Avg. Loss: 0.022822694620117545\n",
      "Epoch: 60, Batch: 160, Avg. Loss: 0.023867589712608606\n",
      "Epoch: 60, Batch: 176, Avg. Loss: 0.033294538559857756\n",
      "Epoch: 60, Batch: 192, Avg. Loss: 0.032862373685929924\n",
      "Epoch: 60, Batch: 208, Avg. Loss: 0.022954769025091082\n",
      "Epoch: 61, Batch: 16, Avg. Loss: 0.023738979769404978\n",
      "Epoch: 61, Batch: 32, Avg. Loss: 0.027124777319841087\n",
      "Epoch: 61, Batch: 48, Avg. Loss: 0.022487664769869298\n",
      "Epoch: 61, Batch: 64, Avg. Loss: 0.02854248625226319\n",
      "Epoch: 61, Batch: 80, Avg. Loss: 0.037589257408399135\n",
      "Epoch: 61, Batch: 96, Avg. Loss: 0.022885560523718596\n",
      "Epoch: 61, Batch: 112, Avg. Loss: 0.02813406870700419\n",
      "Epoch: 61, Batch: 128, Avg. Loss: 0.019648674235213548\n",
      "Epoch: 61, Batch: 144, Avg. Loss: 0.022104572970420122\n",
      "Epoch: 61, Batch: 160, Avg. Loss: 0.02247165166772902\n",
      "Epoch: 61, Batch: 176, Avg. Loss: 0.027280491194687784\n",
      "Epoch: 61, Batch: 192, Avg. Loss: 0.0400368629489094\n",
      "Epoch: 61, Batch: 208, Avg. Loss: 0.023493412765674293\n",
      "Epoch: 62, Batch: 16, Avg. Loss: 0.024041292257606983\n",
      "Epoch: 62, Batch: 32, Avg. Loss: 0.025862749782390893\n",
      "Epoch: 62, Batch: 48, Avg. Loss: 0.026172181882429868\n",
      "Epoch: 62, Batch: 64, Avg. Loss: 0.028340420278254896\n",
      "Epoch: 62, Batch: 80, Avg. Loss: 0.024189643445424736\n",
      "Epoch: 62, Batch: 96, Avg. Loss: 0.02895912213716656\n",
      "Epoch: 62, Batch: 112, Avg. Loss: 0.024868574750144035\n",
      "Epoch: 62, Batch: 128, Avg. Loss: 0.032042031176388264\n",
      "Epoch: 62, Batch: 144, Avg. Loss: 0.022679568617604673\n",
      "Epoch: 62, Batch: 160, Avg. Loss: 0.026246621389873326\n",
      "Epoch: 62, Batch: 176, Avg. Loss: 0.02296560042304918\n",
      "Epoch: 62, Batch: 192, Avg. Loss: 0.027639316278509796\n",
      "Epoch: 62, Batch: 208, Avg. Loss: 0.02630898158531636\n",
      "Epoch: 63, Batch: 16, Avg. Loss: 0.023867203504778445\n",
      "Epoch: 63, Batch: 32, Avg. Loss: 0.02279041428118944\n",
      "Epoch: 63, Batch: 48, Avg. Loss: 0.02655796764884144\n",
      "Epoch: 63, Batch: 64, Avg. Loss: 0.021649076545145363\n",
      "Epoch: 63, Batch: 80, Avg. Loss: 0.021878700354136527\n",
      "Epoch: 63, Batch: 96, Avg. Loss: 0.02333502733381465\n",
      "Epoch: 63, Batch: 112, Avg. Loss: 0.025245763827115297\n",
      "Epoch: 63, Batch: 128, Avg. Loss: 0.039936684421263635\n",
      "Epoch: 63, Batch: 144, Avg. Loss: 0.024290722329169512\n",
      "Epoch: 63, Batch: 160, Avg. Loss: 0.02155095129273832\n",
      "Epoch: 63, Batch: 176, Avg. Loss: 0.033688882540445775\n",
      "Epoch: 63, Batch: 192, Avg. Loss: 0.031062291003763676\n",
      "Epoch: 63, Batch: 208, Avg. Loss: 0.027551348321139812\n",
      "Epoch: 64, Batch: 16, Avg. Loss: 0.023193621425889432\n",
      "Epoch: 64, Batch: 32, Avg. Loss: 0.025061245018150657\n",
      "Epoch: 64, Batch: 48, Avg. Loss: 0.02983572136145085\n",
      "Epoch: 64, Batch: 64, Avg. Loss: 0.02426479698624462\n",
      "Epoch: 64, Batch: 80, Avg. Loss: 0.03509164723800495\n",
      "Epoch: 64, Batch: 96, Avg. Loss: 0.022038169438019395\n",
      "Epoch: 64, Batch: 112, Avg. Loss: 0.03290025895694271\n",
      "Epoch: 64, Batch: 128, Avg. Loss: 0.030124713317491114\n",
      "Epoch: 64, Batch: 144, Avg. Loss: 0.021655157674103975\n",
      "Epoch: 64, Batch: 160, Avg. Loss: 0.030063713435083628\n",
      "Epoch: 64, Batch: 176, Avg. Loss: 0.023443246027454734\n",
      "Epoch: 64, Batch: 192, Avg. Loss: 0.026216563361231238\n",
      "Epoch: 64, Batch: 208, Avg. Loss: 0.02136777073610574\n",
      "Epoch: 65, Batch: 16, Avg. Loss: 0.023003558511845767\n",
      "Epoch: 65, Batch: 32, Avg. Loss: 0.02836155763361603\n",
      "Epoch: 65, Batch: 48, Avg. Loss: 0.0228196726529859\n",
      "Epoch: 65, Batch: 64, Avg. Loss: 0.023760290234349668\n",
      "Epoch: 65, Batch: 80, Avg. Loss: 0.031320905312895775\n",
      "Epoch: 65, Batch: 96, Avg. Loss: 0.028388925828039646\n",
      "Epoch: 65, Batch: 112, Avg. Loss: 0.02572799357585609\n",
      "Epoch: 65, Batch: 128, Avg. Loss: 0.029977246187627316\n",
      "Epoch: 65, Batch: 144, Avg. Loss: 0.029551434563472867\n",
      "Epoch: 65, Batch: 160, Avg. Loss: 0.024528517038561404\n",
      "Epoch: 65, Batch: 176, Avg. Loss: 0.02823841560166329\n",
      "Epoch: 65, Batch: 192, Avg. Loss: 0.02948512672446668\n",
      "Epoch: 65, Batch: 208, Avg. Loss: 0.02781918441178277\n",
      "Epoch: 66, Batch: 16, Avg. Loss: 0.024407036660704762\n",
      "Epoch: 66, Batch: 32, Avg. Loss: 0.02593911119038239\n",
      "Epoch: 66, Batch: 48, Avg. Loss: 0.027216277841944247\n",
      "Epoch: 66, Batch: 64, Avg. Loss: 0.02240103669464588\n",
      "Epoch: 66, Batch: 80, Avg. Loss: 0.029215241025667638\n",
      "Epoch: 66, Batch: 96, Avg. Loss: 0.028327207313850522\n",
      "Epoch: 66, Batch: 112, Avg. Loss: 0.025214256485924125\n",
      "Epoch: 66, Batch: 128, Avg. Loss: 0.02412128052674234\n",
      "Epoch: 66, Batch: 144, Avg. Loss: 0.029753237147815526\n",
      "Epoch: 66, Batch: 160, Avg. Loss: 0.02126853569643572\n",
      "Epoch: 66, Batch: 176, Avg. Loss: 0.02909914404153824\n",
      "Epoch: 66, Batch: 192, Avg. Loss: 0.02841810305835679\n",
      "Epoch: 66, Batch: 208, Avg. Loss: 0.02410473325289786\n",
      "Epoch: 67, Batch: 16, Avg. Loss: 0.019122069410514086\n",
      "Epoch: 67, Batch: 32, Avg. Loss: 0.02821291220607236\n",
      "Epoch: 67, Batch: 48, Avg. Loss: 0.022012093453668058\n",
      "Epoch: 67, Batch: 64, Avg. Loss: 0.03319504711544141\n",
      "Epoch: 67, Batch: 80, Avg. Loss: 0.027451126370579004\n",
      "Epoch: 67, Batch: 96, Avg. Loss: 0.022845617320854217\n",
      "Epoch: 67, Batch: 112, Avg. Loss: 0.021380953956395388\n",
      "Epoch: 67, Batch: 128, Avg. Loss: 0.029976735822856426\n",
      "Epoch: 67, Batch: 144, Avg. Loss: 0.023182400676887482\n",
      "Epoch: 67, Batch: 160, Avg. Loss: 0.022616574598941952\n",
      "Epoch: 67, Batch: 176, Avg. Loss: 0.027736126561649144\n",
      "Epoch: 67, Batch: 192, Avg. Loss: 0.03336860053241253\n",
      "Epoch: 67, Batch: 208, Avg. Loss: 0.02586951374541968\n",
      "Epoch: 68, Batch: 16, Avg. Loss: 0.01897001307224855\n",
      "Epoch: 68, Batch: 32, Avg. Loss: 0.022008179395925254\n",
      "Epoch: 68, Batch: 48, Avg. Loss: 0.023260342190042138\n",
      "Epoch: 68, Batch: 64, Avg. Loss: 0.022465885616838932\n",
      "Epoch: 68, Batch: 80, Avg. Loss: 0.032334077230188996\n",
      "Epoch: 68, Batch: 96, Avg. Loss: 0.024285951629281044\n",
      "Epoch: 68, Batch: 112, Avg. Loss: 0.02346017089439556\n",
      "Epoch: 68, Batch: 128, Avg. Loss: 0.025673252996057272\n",
      "Epoch: 68, Batch: 144, Avg. Loss: 0.02439439098816365\n",
      "Epoch: 68, Batch: 160, Avg. Loss: 0.02201495977351442\n",
      "Epoch: 68, Batch: 176, Avg. Loss: 0.022591906948946416\n",
      "Epoch: 68, Batch: 192, Avg. Loss: 0.02509234508033842\n",
      "Epoch: 68, Batch: 208, Avg. Loss: 0.019655360549222678\n",
      "Epoch: 69, Batch: 16, Avg. Loss: 0.02401664067292586\n",
      "Epoch: 69, Batch: 32, Avg. Loss: 0.025468016683589667\n",
      "Epoch: 69, Batch: 48, Avg. Loss: 0.024553266470320523\n",
      "Epoch: 69, Batch: 64, Avg. Loss: 0.0189281984930858\n",
      "Epoch: 69, Batch: 80, Avg. Loss: 0.019454132474493235\n",
      "Epoch: 69, Batch: 96, Avg. Loss: 0.026163129834458232\n",
      "Epoch: 69, Batch: 112, Avg. Loss: 0.026319753495045006\n",
      "Epoch: 69, Batch: 128, Avg. Loss: 0.025404368003364652\n",
      "Epoch: 69, Batch: 144, Avg. Loss: 0.024343731813132763\n",
      "Epoch: 69, Batch: 160, Avg. Loss: 0.02325394278159365\n",
      "Epoch: 69, Batch: 176, Avg. Loss: 0.02989463123958558\n",
      "Epoch: 69, Batch: 192, Avg. Loss: 0.02312147681368515\n",
      "Epoch: 69, Batch: 208, Avg. Loss: 0.029325959971174598\n",
      "Epoch: 70, Batch: 16, Avg. Loss: 0.022402160277124494\n",
      "Epoch: 70, Batch: 32, Avg. Loss: 0.022756487771403044\n",
      "Epoch: 70, Batch: 48, Avg. Loss: 0.02939808031078428\n",
      "Epoch: 70, Batch: 64, Avg. Loss: 0.023882461595349014\n",
      "Epoch: 70, Batch: 80, Avg. Loss: 0.024770082731265575\n",
      "Epoch: 70, Batch: 96, Avg. Loss: 0.021522085356991738\n",
      "Epoch: 70, Batch: 112, Avg. Loss: 0.019113675458356738\n",
      "Epoch: 70, Batch: 128, Avg. Loss: 0.024033501918893307\n",
      "Epoch: 70, Batch: 144, Avg. Loss: 0.022242107253987342\n",
      "Epoch: 70, Batch: 160, Avg. Loss: 0.031063423492014408\n",
      "Epoch: 70, Batch: 176, Avg. Loss: 0.018646813230589032\n",
      "Epoch: 70, Batch: 192, Avg. Loss: 0.023729938140604645\n",
      "Epoch: 70, Batch: 208, Avg. Loss: 0.019309540803078562\n",
      "Epoch: 71, Batch: 16, Avg. Loss: 0.02087704266887158\n",
      "Epoch: 71, Batch: 32, Avg. Loss: 0.021532790386117995\n",
      "Epoch: 71, Batch: 48, Avg. Loss: 0.023921817541122437\n",
      "Epoch: 71, Batch: 64, Avg. Loss: 0.028008999885059893\n",
      "Epoch: 71, Batch: 80, Avg. Loss: 0.02359717880608514\n",
      "Epoch: 71, Batch: 96, Avg. Loss: 0.024899679236114025\n",
      "Epoch: 71, Batch: 112, Avg. Loss: 0.018405661336146295\n",
      "Epoch: 71, Batch: 128, Avg. Loss: 0.02277517889160663\n",
      "Epoch: 71, Batch: 144, Avg. Loss: 0.026620698801707476\n"
     ]
    },
    {
     "name": "stdout",
     "output_type": "stream",
     "text": [
      "Epoch: 71, Batch: 160, Avg. Loss: 0.02842506195884198\n",
      "Epoch: 71, Batch: 176, Avg. Loss: 0.022471779957413673\n",
      "Epoch: 71, Batch: 192, Avg. Loss: 0.021066552493721247\n",
      "Epoch: 71, Batch: 208, Avg. Loss: 0.019074643088970333\n",
      "Epoch: 72, Batch: 16, Avg. Loss: 0.026282181846909225\n",
      "Epoch: 72, Batch: 32, Avg. Loss: 0.024478633422404528\n",
      "Epoch: 72, Batch: 48, Avg. Loss: 0.026247649162542075\n",
      "Epoch: 72, Batch: 64, Avg. Loss: 0.023646970046684146\n",
      "Epoch: 72, Batch: 80, Avg. Loss: 0.02249971142737195\n",
      "Epoch: 72, Batch: 96, Avg. Loss: 0.02850675763329491\n",
      "Epoch: 72, Batch: 112, Avg. Loss: 0.01740933343535289\n",
      "Epoch: 72, Batch: 128, Avg. Loss: 0.029820097726769745\n",
      "Epoch: 72, Batch: 144, Avg. Loss: 0.018079590110573918\n",
      "Epoch: 72, Batch: 160, Avg. Loss: 0.01993077847873792\n",
      "Epoch: 72, Batch: 176, Avg. Loss: 0.027619909029453993\n",
      "Epoch: 72, Batch: 192, Avg. Loss: 0.02662709786091\n",
      "Epoch: 72, Batch: 208, Avg. Loss: 0.02210770291276276\n",
      "Epoch: 73, Batch: 16, Avg. Loss: 0.021665722655598074\n",
      "Epoch: 73, Batch: 32, Avg. Loss: 0.02684517326997593\n",
      "Epoch: 73, Batch: 48, Avg. Loss: 0.0194545061676763\n",
      "Epoch: 73, Batch: 64, Avg. Loss: 0.0261298434343189\n",
      "Epoch: 73, Batch: 80, Avg. Loss: 0.02182993822498247\n",
      "Epoch: 73, Batch: 96, Avg. Loss: 0.017609408998396248\n",
      "Epoch: 73, Batch: 112, Avg. Loss: 0.02037401229608804\n",
      "Epoch: 73, Batch: 128, Avg. Loss: 0.037376616906840354\n",
      "Epoch: 73, Batch: 144, Avg. Loss: 0.029972873744554818\n",
      "Epoch: 73, Batch: 160, Avg. Loss: 0.022435818915255368\n",
      "Epoch: 73, Batch: 176, Avg. Loss: 0.025604189897421747\n",
      "Epoch: 73, Batch: 192, Avg. Loss: 0.02102312387432903\n",
      "Epoch: 73, Batch: 208, Avg. Loss: 0.026663607801310718\n",
      "Epoch: 74, Batch: 16, Avg. Loss: 0.019063596497289836\n",
      "Epoch: 74, Batch: 32, Avg. Loss: 0.019482104515191168\n",
      "Epoch: 74, Batch: 48, Avg. Loss: 0.028633326815906912\n",
      "Epoch: 74, Batch: 64, Avg. Loss: 0.026747664087451994\n",
      "Epoch: 74, Batch: 80, Avg. Loss: 0.03804110974306241\n",
      "Epoch: 74, Batch: 96, Avg. Loss: 0.021996596362441778\n",
      "Epoch: 74, Batch: 112, Avg. Loss: 0.02196254616137594\n",
      "Epoch: 74, Batch: 128, Avg. Loss: 0.02133272826904431\n",
      "Epoch: 74, Batch: 144, Avg. Loss: 0.018975322076585144\n",
      "Epoch: 74, Batch: 160, Avg. Loss: 0.020301839627791196\n",
      "Epoch: 74, Batch: 176, Avg. Loss: 0.01823639340000227\n",
      "Epoch: 74, Batch: 192, Avg. Loss: 0.02387743309373036\n",
      "Epoch: 74, Batch: 208, Avg. Loss: 0.02173259452683851\n",
      "Epoch: 75, Batch: 16, Avg. Loss: 0.017765299475286156\n",
      "Epoch: 75, Batch: 32, Avg. Loss: 0.01973544788779691\n",
      "Epoch: 75, Batch: 48, Avg. Loss: 0.0189882279955782\n",
      "Epoch: 75, Batch: 64, Avg. Loss: 0.027910174743738025\n",
      "Epoch: 75, Batch: 80, Avg. Loss: 0.02211311599239707\n",
      "Epoch: 75, Batch: 96, Avg. Loss: 0.021236279921140522\n",
      "Epoch: 75, Batch: 112, Avg. Loss: 0.029376111750025302\n",
      "Epoch: 75, Batch: 128, Avg. Loss: 0.02920829807408154\n",
      "Epoch: 75, Batch: 144, Avg. Loss: 0.023290008422918618\n",
      "Epoch: 75, Batch: 160, Avg. Loss: 0.021621789725031704\n",
      "Epoch: 75, Batch: 176, Avg. Loss: 0.02053443482145667\n",
      "Epoch: 75, Batch: 192, Avg. Loss: 0.01997592841507867\n",
      "Epoch: 75, Batch: 208, Avg. Loss: 0.026310650631785393\n",
      "Epoch: 76, Batch: 16, Avg. Loss: 0.028469217591919005\n",
      "Epoch: 76, Batch: 32, Avg. Loss: 0.02041621261741966\n",
      "Epoch: 76, Batch: 48, Avg. Loss: 0.021138044772669673\n",
      "Epoch: 76, Batch: 64, Avg. Loss: 0.021565909672062844\n",
      "Epoch: 76, Batch: 80, Avg. Loss: 0.024446762341540307\n",
      "Epoch: 76, Batch: 96, Avg. Loss: 0.02352092112414539\n",
      "Epoch: 76, Batch: 112, Avg. Loss: 0.021305021829903126\n",
      "Epoch: 76, Batch: 128, Avg. Loss: 0.03227094316389412\n",
      "Epoch: 76, Batch: 144, Avg. Loss: 0.02216867817332968\n",
      "Epoch: 76, Batch: 160, Avg. Loss: 0.022186807706020772\n",
      "Epoch: 76, Batch: 176, Avg. Loss: 0.01950190297793597\n",
      "Epoch: 76, Batch: 192, Avg. Loss: 0.024202467990107834\n",
      "Epoch: 76, Batch: 208, Avg. Loss: 0.023079371952917427\n",
      "Epoch: 77, Batch: 16, Avg. Loss: 0.02236327895661816\n",
      "Epoch: 77, Batch: 32, Avg. Loss: 0.024117500288411975\n",
      "Epoch: 77, Batch: 48, Avg. Loss: 0.02047825779300183\n",
      "Epoch: 77, Batch: 64, Avg. Loss: 0.024290508590638638\n",
      "Epoch: 77, Batch: 80, Avg. Loss: 0.02232250280212611\n",
      "Epoch: 77, Batch: 96, Avg. Loss: 0.018992721219547093\n",
      "Epoch: 77, Batch: 112, Avg. Loss: 0.019284177164081484\n",
      "Epoch: 77, Batch: 128, Avg. Loss: 0.020723688940051943\n",
      "Epoch: 77, Batch: 144, Avg. Loss: 0.024036057759076357\n",
      "Epoch: 77, Batch: 160, Avg. Loss: 0.03159413585672155\n",
      "Epoch: 77, Batch: 176, Avg. Loss: 0.02418243361171335\n",
      "Epoch: 77, Batch: 192, Avg. Loss: 0.02017602720297873\n",
      "Epoch: 77, Batch: 208, Avg. Loss: 0.01609752787044272\n",
      "Epoch: 78, Batch: 16, Avg. Loss: 0.03075972496299073\n",
      "Epoch: 78, Batch: 32, Avg. Loss: 0.018219845194835216\n",
      "Epoch: 78, Batch: 48, Avg. Loss: 0.01936898852000013\n",
      "Epoch: 78, Batch: 64, Avg. Loss: 0.019806785858236253\n",
      "Epoch: 78, Batch: 80, Avg. Loss: 0.016668590949848294\n",
      "Epoch: 78, Batch: 96, Avg. Loss: 0.02161458384944126\n",
      "Epoch: 78, Batch: 112, Avg. Loss: 0.026237735524773598\n",
      "Epoch: 78, Batch: 128, Avg. Loss: 0.020510646980255842\n",
      "Epoch: 78, Batch: 144, Avg. Loss: 0.02600840653758496\n",
      "Epoch: 78, Batch: 160, Avg. Loss: 0.026182271016296\n",
      "Epoch: 78, Batch: 176, Avg. Loss: 0.024698854482267052\n",
      "Epoch: 78, Batch: 192, Avg. Loss: 0.019028589071240276\n",
      "Epoch: 78, Batch: 208, Avg. Loss: 0.034149437851738185\n",
      "Epoch: 79, Batch: 16, Avg. Loss: 0.019285948248580098\n",
      "Epoch: 79, Batch: 32, Avg. Loss: 0.022192846634425223\n",
      "Epoch: 79, Batch: 48, Avg. Loss: 0.02706441533518955\n",
      "Epoch: 79, Batch: 64, Avg. Loss: 0.018822682730387896\n",
      "Epoch: 79, Batch: 80, Avg. Loss: 0.021072922507300973\n",
      "Epoch: 79, Batch: 96, Avg. Loss: 0.018801881815306842\n",
      "Epoch: 79, Batch: 112, Avg. Loss: 0.017946499050594866\n",
      "Epoch: 79, Batch: 128, Avg. Loss: 0.02102537453174591\n",
      "Epoch: 79, Batch: 144, Avg. Loss: 0.037577805400360376\n",
      "Epoch: 79, Batch: 160, Avg. Loss: 0.02391561958938837\n",
      "Epoch: 79, Batch: 176, Avg. Loss: 0.024300569377373904\n",
      "Epoch: 79, Batch: 192, Avg. Loss: 0.024126835342030972\n",
      "Epoch: 79, Batch: 208, Avg. Loss: 0.017069093184545636\n",
      "Epoch: 80, Batch: 16, Avg. Loss: 0.01697568647796288\n",
      "Epoch: 80, Batch: 32, Avg. Loss: 0.022327677463181317\n",
      "Epoch: 80, Batch: 48, Avg. Loss: 0.025953785167075694\n",
      "Epoch: 80, Batch: 64, Avg. Loss: 0.0197322562453337\n",
      "Epoch: 80, Batch: 80, Avg. Loss: 0.019837738946080208\n",
      "Epoch: 80, Batch: 96, Avg. Loss: 0.015831917989999056\n",
      "Epoch: 80, Batch: 112, Avg. Loss: 0.029249515617266297\n",
      "Epoch: 80, Batch: 128, Avg. Loss: 0.020010691892821342\n",
      "Epoch: 80, Batch: 144, Avg. Loss: 0.027186422317754477\n",
      "Epoch: 80, Batch: 160, Avg. Loss: 0.02939835673896596\n",
      "Epoch: 80, Batch: 176, Avg. Loss: 0.01728220615768805\n",
      "Epoch: 80, Batch: 192, Avg. Loss: 0.019253432052209973\n",
      "Epoch: 80, Batch: 208, Avg. Loss: 0.028274565062019974\n",
      "Epoch: 81, Batch: 16, Avg. Loss: 0.019902284897398204\n",
      "Epoch: 81, Batch: 32, Avg. Loss: 0.01744365895865485\n",
      "Epoch: 81, Batch: 48, Avg. Loss: 0.016959454223979264\n",
      "Epoch: 81, Batch: 64, Avg. Loss: 0.020086141710635275\n",
      "Epoch: 81, Batch: 80, Avg. Loss: 0.017158132512122393\n",
      "Epoch: 81, Batch: 96, Avg. Loss: 0.02017993910703808\n",
      "Epoch: 81, Batch: 112, Avg. Loss: 0.021797491586767137\n",
      "Epoch: 81, Batch: 128, Avg. Loss: 0.019411070563364774\n",
      "Epoch: 81, Batch: 144, Avg. Loss: 0.026099744311068207\n",
      "Epoch: 81, Batch: 160, Avg. Loss: 0.02360365481581539\n",
      "Epoch: 81, Batch: 176, Avg. Loss: 0.023887186776846647\n",
      "Epoch: 81, Batch: 192, Avg. Loss: 0.021322791115380824\n",
      "Epoch: 81, Batch: 208, Avg. Loss: 0.016597793670371175\n",
      "Epoch: 82, Batch: 16, Avg. Loss: 0.017898488033097237\n",
      "Epoch: 82, Batch: 32, Avg. Loss: 0.019177996029611677\n",
      "Epoch: 82, Batch: 48, Avg. Loss: 0.016942838090471923\n",
      "Epoch: 82, Batch: 64, Avg. Loss: 0.016169716662261635\n",
      "Epoch: 82, Batch: 80, Avg. Loss: 0.01915059646125883\n",
      "Epoch: 82, Batch: 96, Avg. Loss: 0.018101354537066072\n",
      "Epoch: 82, Batch: 112, Avg. Loss: 0.017152244225144386\n",
      "Epoch: 82, Batch: 128, Avg. Loss: 0.02390255214413628\n",
      "Epoch: 82, Batch: 144, Avg. Loss: 0.021740972122643143\n",
      "Epoch: 82, Batch: 160, Avg. Loss: 0.02499332436127588\n",
      "Epoch: 82, Batch: 176, Avg. Loss: 0.023998722550459206\n",
      "Epoch: 82, Batch: 192, Avg. Loss: 0.017103723075706512\n",
      "Epoch: 82, Batch: 208, Avg. Loss: 0.02253910427680239\n",
      "Epoch: 83, Batch: 16, Avg. Loss: 0.023472757718991488\n",
      "Epoch: 83, Batch: 32, Avg. Loss: 0.0182367138331756\n",
      "Epoch: 83, Batch: 48, Avg. Loss: 0.0295787324430421\n",
      "Epoch: 83, Batch: 64, Avg. Loss: 0.021296129503753036\n",
      "Epoch: 83, Batch: 80, Avg. Loss: 0.019330444280058146\n"
     ]
    },
    {
     "name": "stdout",
     "output_type": "stream",
     "text": [
      "Epoch: 83, Batch: 96, Avg. Loss: 0.019985636929050088\n",
      "Epoch: 83, Batch: 112, Avg. Loss: 0.016792877053376287\n",
      "Epoch: 83, Batch: 128, Avg. Loss: 0.01586231158580631\n",
      "Epoch: 83, Batch: 144, Avg. Loss: 0.021838980144821107\n",
      "Epoch: 83, Batch: 160, Avg. Loss: 0.01671889834688045\n",
      "Epoch: 83, Batch: 176, Avg. Loss: 0.020620800787582994\n",
      "Epoch: 83, Batch: 192, Avg. Loss: 0.016030737257096916\n",
      "Epoch: 83, Batch: 208, Avg. Loss: 0.027026657946407795\n",
      "Epoch: 84, Batch: 16, Avg. Loss: 0.021616346726659685\n",
      "Epoch: 84, Batch: 32, Avg. Loss: 0.01697496185079217\n",
      "Epoch: 84, Batch: 48, Avg. Loss: 0.01847684505628422\n",
      "Epoch: 84, Batch: 64, Avg. Loss: 0.022307661536615342\n",
      "Epoch: 84, Batch: 80, Avg. Loss: 0.017687405459582806\n",
      "Epoch: 84, Batch: 96, Avg. Loss: 0.01781601522816345\n",
      "Epoch: 84, Batch: 112, Avg. Loss: 0.019036425626836717\n",
      "Epoch: 84, Batch: 128, Avg. Loss: 0.022772271593566984\n",
      "Epoch: 84, Batch: 144, Avg. Loss: 0.02230298618087545\n",
      "Epoch: 84, Batch: 160, Avg. Loss: 0.01923724205698818\n",
      "Epoch: 84, Batch: 176, Avg. Loss: 0.018499465368222445\n",
      "Epoch: 84, Batch: 192, Avg. Loss: 0.026547049405053258\n",
      "Epoch: 84, Batch: 208, Avg. Loss: 0.01663353346521035\n",
      "Epoch: 85, Batch: 16, Avg. Loss: 0.02114795200759545\n",
      "Epoch: 85, Batch: 32, Avg. Loss: 0.022375604487024248\n",
      "Epoch: 85, Batch: 48, Avg. Loss: 0.020274166483432055\n",
      "Epoch: 85, Batch: 64, Avg. Loss: 0.024136197462212294\n",
      "Epoch: 85, Batch: 80, Avg. Loss: 0.0209875627188012\n",
      "Epoch: 85, Batch: 96, Avg. Loss: 0.019484350050333887\n",
      "Epoch: 85, Batch: 112, Avg. Loss: 0.023330419964622706\n",
      "Epoch: 85, Batch: 128, Avg. Loss: 0.018948622164316475\n",
      "Epoch: 85, Batch: 144, Avg. Loss: 0.017413877125363797\n",
      "Epoch: 85, Batch: 160, Avg. Loss: 0.020496244716923684\n",
      "Epoch: 85, Batch: 176, Avg. Loss: 0.02546940610045567\n",
      "Epoch: 85, Batch: 192, Avg. Loss: 0.020494989992585033\n",
      "Epoch: 85, Batch: 208, Avg. Loss: 0.01629560417495668\n",
      "Epoch: 86, Batch: 16, Avg. Loss: 0.017674314003670588\n",
      "Epoch: 86, Batch: 32, Avg. Loss: 0.017845711088739336\n",
      "Epoch: 86, Batch: 48, Avg. Loss: 0.019150845299009234\n",
      "Epoch: 86, Batch: 64, Avg. Loss: 0.01549864254775457\n",
      "Epoch: 86, Batch: 80, Avg. Loss: 0.019694711780175567\n",
      "Epoch: 86, Batch: 96, Avg. Loss: 0.015333096438553184\n",
      "Epoch: 86, Batch: 112, Avg. Loss: 0.02104811614844948\n",
      "Epoch: 86, Batch: 128, Avg. Loss: 0.015981328207999468\n",
      "Epoch: 86, Batch: 144, Avg. Loss: 0.02042615128448233\n",
      "Epoch: 86, Batch: 160, Avg. Loss: 0.01687819795915857\n",
      "Epoch: 86, Batch: 176, Avg. Loss: 0.024082369927782565\n",
      "Epoch: 86, Batch: 192, Avg. Loss: 0.022299970500171185\n",
      "Epoch: 86, Batch: 208, Avg. Loss: 0.017607136629521847\n",
      "Epoch: 87, Batch: 16, Avg. Loss: 0.020581735181622207\n",
      "Epoch: 87, Batch: 32, Avg. Loss: 0.019984487153124064\n",
      "Epoch: 87, Batch: 48, Avg. Loss: 0.018413009122014046\n",
      "Epoch: 87, Batch: 64, Avg. Loss: 0.01914561295416206\n",
      "Epoch: 87, Batch: 80, Avg. Loss: 0.023750861349981278\n",
      "Epoch: 87, Batch: 96, Avg. Loss: 0.027467719512060285\n",
      "Epoch: 87, Batch: 112, Avg. Loss: 0.0176075859926641\n",
      "Epoch: 87, Batch: 128, Avg. Loss: 0.02328573592239991\n",
      "Epoch: 87, Batch: 144, Avg. Loss: 0.022207003843504936\n",
      "Epoch: 87, Batch: 160, Avg. Loss: 0.023357423779089004\n",
      "Epoch: 87, Batch: 176, Avg. Loss: 0.018086513213347644\n",
      "Epoch: 87, Batch: 192, Avg. Loss: 0.019541029818356037\n",
      "Epoch: 87, Batch: 208, Avg. Loss: 0.015261459921021014\n",
      "Epoch: 88, Batch: 16, Avg. Loss: 0.016230250184889883\n",
      "Epoch: 88, Batch: 32, Avg. Loss: 0.019715895410627127\n",
      "Epoch: 88, Batch: 48, Avg. Loss: 0.017629042908083647\n",
      "Epoch: 88, Batch: 64, Avg. Loss: 0.017353461415041238\n",
      "Epoch: 88, Batch: 80, Avg. Loss: 0.014206905325409025\n",
      "Epoch: 88, Batch: 96, Avg. Loss: 0.020206377434078604\n",
      "Epoch: 88, Batch: 112, Avg. Loss: 0.022464581939857453\n",
      "Epoch: 88, Batch: 128, Avg. Loss: 0.015551601187326014\n",
      "Epoch: 88, Batch: 144, Avg. Loss: 0.018826396204531193\n",
      "Epoch: 88, Batch: 160, Avg. Loss: 0.02241770370164886\n",
      "Epoch: 88, Batch: 176, Avg. Loss: 0.01617994240950793\n",
      "Epoch: 88, Batch: 192, Avg. Loss: 0.02046738046919927\n",
      "Epoch: 88, Batch: 208, Avg. Loss: 0.017898169870022684\n",
      "Epoch: 89, Batch: 16, Avg. Loss: 0.018109487369656563\n",
      "Epoch: 89, Batch: 32, Avg. Loss: 0.02211096661631018\n",
      "Epoch: 89, Batch: 48, Avg. Loss: 0.01480741216801107\n",
      "Epoch: 89, Batch: 64, Avg. Loss: 0.015075218107085675\n",
      "Epoch: 89, Batch: 80, Avg. Loss: 0.021604870620649308\n",
      "Epoch: 89, Batch: 96, Avg. Loss: 0.025415283162146807\n",
      "Epoch: 89, Batch: 112, Avg. Loss: 0.020013554487377405\n",
      "Epoch: 89, Batch: 128, Avg. Loss: 0.02021396579220891\n",
      "Epoch: 89, Batch: 144, Avg. Loss: 0.022235420939978212\n",
      "Epoch: 89, Batch: 160, Avg. Loss: 0.016098626947496086\n",
      "Epoch: 89, Batch: 176, Avg. Loss: 0.024774583376711234\n",
      "Epoch: 89, Batch: 192, Avg. Loss: 0.018701331049669534\n",
      "Epoch: 89, Batch: 208, Avg. Loss: 0.030175586929544806\n",
      "Epoch: 90, Batch: 16, Avg. Loss: 0.01919373671989888\n",
      "Epoch: 90, Batch: 32, Avg. Loss: 0.017768823890946805\n",
      "Epoch: 90, Batch: 48, Avg. Loss: 0.021782609168440104\n",
      "Epoch: 90, Batch: 64, Avg. Loss: 0.025508571648970246\n",
      "Epoch: 90, Batch: 80, Avg. Loss: 0.02112565515562892\n",
      "Epoch: 90, Batch: 96, Avg. Loss: 0.014177839912008494\n",
      "Epoch: 90, Batch: 112, Avg. Loss: 0.018573078676126897\n",
      "Epoch: 90, Batch: 128, Avg. Loss: 0.02381984784733504\n",
      "Epoch: 90, Batch: 144, Avg. Loss: 0.01748134777881205\n",
      "Epoch: 90, Batch: 160, Avg. Loss: 0.01542495284229517\n",
      "Epoch: 90, Batch: 176, Avg. Loss: 0.017609594331588596\n",
      "Epoch: 90, Batch: 192, Avg. Loss: 0.016312286374159157\n",
      "Epoch: 90, Batch: 208, Avg. Loss: 0.016968859126791358\n",
      "Epoch: 91, Batch: 16, Avg. Loss: 0.017519142653327435\n",
      "Epoch: 91, Batch: 32, Avg. Loss: 0.017255265440326184\n",
      "Epoch: 91, Batch: 48, Avg. Loss: 0.01740762038389221\n",
      "Epoch: 91, Batch: 64, Avg. Loss: 0.01666807319270447\n",
      "Epoch: 91, Batch: 80, Avg. Loss: 0.017963631835300475\n",
      "Epoch: 91, Batch: 96, Avg. Loss: 0.01660009252373129\n",
      "Epoch: 91, Batch: 112, Avg. Loss: 0.01750826311763376\n",
      "Epoch: 91, Batch: 128, Avg. Loss: 0.018569961714092642\n",
      "Epoch: 91, Batch: 144, Avg. Loss: 0.015111752087250352\n",
      "Epoch: 91, Batch: 160, Avg. Loss: 0.01840725203510374\n",
      "Epoch: 91, Batch: 176, Avg. Loss: 0.018285012629348785\n",
      "Epoch: 91, Batch: 192, Avg. Loss: 0.01734833704540506\n",
      "Epoch: 91, Batch: 208, Avg. Loss: 0.017022487823851407\n",
      "Epoch: 92, Batch: 16, Avg. Loss: 0.013400664960499853\n",
      "Epoch: 92, Batch: 32, Avg. Loss: 0.01579340675380081\n",
      "Epoch: 92, Batch: 48, Avg. Loss: 0.018498936900869012\n",
      "Epoch: 92, Batch: 64, Avg. Loss: 0.02455380465835333\n",
      "Epoch: 92, Batch: 80, Avg. Loss: 0.024074440414551646\n",
      "Epoch: 92, Batch: 96, Avg. Loss: 0.016565447265747935\n",
      "Epoch: 92, Batch: 112, Avg. Loss: 0.01733428525039926\n",
      "Epoch: 92, Batch: 128, Avg. Loss: 0.01945186487864703\n",
      "Epoch: 92, Batch: 144, Avg. Loss: 0.01708694559056312\n",
      "Epoch: 92, Batch: 160, Avg. Loss: 0.01997110727825202\n",
      "Epoch: 92, Batch: 176, Avg. Loss: 0.01689711317885667\n",
      "Epoch: 92, Batch: 192, Avg. Loss: 0.021489765669684857\n",
      "Epoch: 92, Batch: 208, Avg. Loss: 0.015102782635949552\n",
      "Epoch: 93, Batch: 16, Avg. Loss: 0.02766283560777083\n",
      "Epoch: 93, Batch: 32, Avg. Loss: 0.021567806543316692\n",
      "Epoch: 93, Batch: 48, Avg. Loss: 0.02072244434384629\n",
      "Epoch: 93, Batch: 64, Avg. Loss: 0.016544732672628015\n",
      "Epoch: 93, Batch: 80, Avg. Loss: 0.019546679046470672\n",
      "Epoch: 93, Batch: 96, Avg. Loss: 0.024399419489782304\n",
      "Epoch: 93, Batch: 112, Avg. Loss: 0.01879245589952916\n",
      "Epoch: 93, Batch: 128, Avg. Loss: 0.018818921351339668\n",
      "Epoch: 93, Batch: 144, Avg. Loss: 0.018244907550979406\n",
      "Epoch: 93, Batch: 160, Avg. Loss: 0.017993314715567976\n",
      "Epoch: 93, Batch: 176, Avg. Loss: 0.01638789617572911\n",
      "Epoch: 93, Batch: 192, Avg. Loss: 0.019701593177160248\n",
      "Epoch: 93, Batch: 208, Avg. Loss: 0.01555455889320001\n",
      "Epoch: 94, Batch: 16, Avg. Loss: 0.02237546513788402\n",
      "Epoch: 94, Batch: 32, Avg. Loss: 0.01770607748767361\n",
      "Epoch: 94, Batch: 48, Avg. Loss: 0.019993763882666826\n",
      "Epoch: 94, Batch: 64, Avg. Loss: 0.018365408817771822\n",
      "Epoch: 94, Batch: 80, Avg. Loss: 0.016878983878996223\n",
      "Epoch: 94, Batch: 96, Avg. Loss: 0.015297897101845592\n",
      "Epoch: 94, Batch: 112, Avg. Loss: 0.01956709026126191\n",
      "Epoch: 94, Batch: 128, Avg. Loss: 0.016437463578768075\n",
      "Epoch: 94, Batch: 144, Avg. Loss: 0.03179719892796129\n",
      "Epoch: 94, Batch: 160, Avg. Loss: 0.01946221321122721\n",
      "Epoch: 94, Batch: 176, Avg. Loss: 0.015282955660950392\n",
      "Epoch: 94, Batch: 192, Avg. Loss: 0.017673160240519792\n",
      "Epoch: 94, Batch: 208, Avg. Loss: 0.01769209955818951\n",
      "Epoch: 95, Batch: 16, Avg. Loss: 0.020407671749126166\n"
     ]
    },
    {
     "name": "stdout",
     "output_type": "stream",
     "text": [
      "Epoch: 95, Batch: 32, Avg. Loss: 0.022864924743771553\n",
      "Epoch: 95, Batch: 48, Avg. Loss: 0.015856873884331435\n",
      "Epoch: 95, Batch: 64, Avg. Loss: 0.01799884537467733\n",
      "Epoch: 95, Batch: 80, Avg. Loss: 0.01616896770428866\n",
      "Epoch: 95, Batch: 96, Avg. Loss: 0.01836622873088345\n",
      "Epoch: 95, Batch: 112, Avg. Loss: 0.02445343998260796\n",
      "Epoch: 95, Batch: 128, Avg. Loss: 0.014442475221585482\n",
      "Epoch: 95, Batch: 144, Avg. Loss: 0.016399087326135486\n",
      "Epoch: 95, Batch: 160, Avg. Loss: 0.01643363738548942\n",
      "Epoch: 95, Batch: 176, Avg. Loss: 0.016696028760634363\n",
      "Epoch: 95, Batch: 192, Avg. Loss: 0.017018370795994997\n",
      "Epoch: 95, Batch: 208, Avg. Loss: 0.017137627466581762\n",
      "Epoch: 96, Batch: 16, Avg. Loss: 0.017247974290512502\n",
      "Epoch: 96, Batch: 32, Avg. Loss: 0.028142161900177598\n",
      "Epoch: 96, Batch: 48, Avg. Loss: 0.013351167959626764\n",
      "Epoch: 96, Batch: 64, Avg. Loss: 0.01765610318398103\n",
      "Epoch: 96, Batch: 80, Avg. Loss: 0.02283363341121003\n",
      "Epoch: 96, Batch: 96, Avg. Loss: 0.017823466972913593\n",
      "Epoch: 96, Batch: 112, Avg. Loss: 0.01734455779660493\n",
      "Epoch: 96, Batch: 128, Avg. Loss: 0.015683244273532182\n",
      "Epoch: 96, Batch: 144, Avg. Loss: 0.019178247777745128\n",
      "Epoch: 96, Batch: 160, Avg. Loss: 0.018248163687530905\n",
      "Epoch: 96, Batch: 176, Avg. Loss: 0.015983393066562712\n",
      "Epoch: 96, Batch: 192, Avg. Loss: 0.014283352356869727\n",
      "Epoch: 96, Batch: 208, Avg. Loss: 0.014699503022711724\n",
      "Epoch: 97, Batch: 16, Avg. Loss: 0.016153771604876965\n",
      "Epoch: 97, Batch: 32, Avg. Loss: 0.01830238674301654\n",
      "Epoch: 97, Batch: 48, Avg. Loss: 0.017737318761646748\n",
      "Epoch: 97, Batch: 64, Avg. Loss: 0.025126931199338287\n",
      "Epoch: 97, Batch: 80, Avg. Loss: 0.019725426944205537\n",
      "Epoch: 97, Batch: 96, Avg. Loss: 0.017653503571636975\n",
      "Epoch: 97, Batch: 112, Avg. Loss: 0.022296157607343048\n",
      "Epoch: 97, Batch: 128, Avg. Loss: 0.014447210007347167\n",
      "Epoch: 97, Batch: 144, Avg. Loss: 0.02304813388036564\n",
      "Epoch: 97, Batch: 160, Avg. Loss: 0.014051244681468233\n",
      "Epoch: 97, Batch: 176, Avg. Loss: 0.017215815256349742\n",
      "Epoch: 97, Batch: 192, Avg. Loss: 0.017284167639445513\n",
      "Epoch: 97, Batch: 208, Avg. Loss: 0.017251799115911126\n",
      "Epoch: 98, Batch: 16, Avg. Loss: 0.020142488880082965\n",
      "Epoch: 98, Batch: 32, Avg. Loss: 0.020464680448640138\n",
      "Epoch: 98, Batch: 48, Avg. Loss: 0.015493672515731305\n",
      "Epoch: 98, Batch: 64, Avg. Loss: 0.01681323704542592\n",
      "Epoch: 98, Batch: 80, Avg. Loss: 0.015280070947483182\n",
      "Epoch: 98, Batch: 96, Avg. Loss: 0.018661950947716832\n",
      "Epoch: 98, Batch: 112, Avg. Loss: 0.013170657912269235\n",
      "Epoch: 98, Batch: 128, Avg. Loss: 0.015185567201115191\n",
      "Epoch: 98, Batch: 144, Avg. Loss: 0.020396487961988896\n",
      "Epoch: 98, Batch: 160, Avg. Loss: 0.02185141877271235\n",
      "Epoch: 98, Batch: 176, Avg. Loss: 0.0194660511915572\n",
      "Epoch: 98, Batch: 192, Avg. Loss: 0.019366382446605712\n",
      "Epoch: 98, Batch: 208, Avg. Loss: 0.017049862624844536\n",
      "Epoch: 99, Batch: 16, Avg. Loss: 0.01631485013058409\n",
      "Epoch: 99, Batch: 32, Avg. Loss: 0.015945252089295536\n",
      "Epoch: 99, Batch: 48, Avg. Loss: 0.015044502972159535\n",
      "Epoch: 99, Batch: 64, Avg. Loss: 0.02090489212423563\n",
      "Epoch: 99, Batch: 80, Avg. Loss: 0.01764922827715054\n",
      "Epoch: 99, Batch: 96, Avg. Loss: 0.019208538928069174\n",
      "Epoch: 99, Batch: 112, Avg. Loss: 0.016302814707159996\n",
      "Epoch: 99, Batch: 128, Avg. Loss: 0.014784610422793776\n",
      "Epoch: 99, Batch: 144, Avg. Loss: 0.015042466344311833\n",
      "Epoch: 99, Batch: 160, Avg. Loss: 0.026265013148076832\n",
      "Epoch: 99, Batch: 176, Avg. Loss: 0.02339769114041701\n",
      "Epoch: 99, Batch: 192, Avg. Loss: 0.019928958907257766\n",
      "Epoch: 99, Batch: 208, Avg. Loss: 0.025708577391924337\n",
      "Epoch: 100, Batch: 16, Avg. Loss: 0.014217015879694372\n",
      "Epoch: 100, Batch: 32, Avg. Loss: 0.016129472001921386\n",
      "Epoch: 100, Batch: 48, Avg. Loss: 0.014602601644583046\n",
      "Epoch: 100, Batch: 64, Avg. Loss: 0.014657643798273057\n",
      "Epoch: 100, Batch: 80, Avg. Loss: 0.014829904481302947\n",
      "Epoch: 100, Batch: 96, Avg. Loss: 0.014222425001207739\n",
      "Epoch: 100, Batch: 112, Avg. Loss: 0.016016525274608284\n",
      "Epoch: 100, Batch: 128, Avg. Loss: 0.02760423452127725\n",
      "Epoch: 100, Batch: 144, Avg. Loss: 0.01883362786611542\n",
      "Epoch: 100, Batch: 160, Avg. Loss: 0.021008991228882223\n",
      "Epoch: 100, Batch: 176, Avg. Loss: 0.02105935211875476\n",
      "Epoch: 100, Batch: 192, Avg. Loss: 0.024955164699349552\n",
      "Epoch: 100, Batch: 208, Avg. Loss: 0.017265626782318577\n",
      "Finished Training\n"
     ]
    }
   ],
   "source": [
    "# train your network\n",
    "n_epochs = 100 # start small, and increase when you've decided on your model structure and hyperparams\n",
    "\n",
    "# this is a Workspaces-specific context manager to keep the connection\n",
    "# alive while training your model, not part of pytorch\n",
    "#with active_session():\n",
    "train_net(n_epochs)"
   ]
  },
  {
   "cell_type": "markdown",
   "metadata": {},
   "source": [
    "## Test data\n",
    "\n",
    "See how your model performs on previously unseen, test data. We've already loaded and transformed this data, similar to the training data. Next, run your trained model on these images to see what kind of keypoints are produced. You should be able to see if your model is fitting each new face it sees, if the points are distributed randomly, or if the points have actually overfitted the training data and do not generalize."
   ]
  },
  {
   "cell_type": "code",
   "execution_count": 161,
   "metadata": {},
   "outputs": [
    {
     "name": "stdout",
     "output_type": "stream",
     "text": [
      "torch.Size([16, 1, 224, 224])\n",
      "torch.Size([16, 68, 2])\n",
      "torch.Size([16, 68, 2])\n"
     ]
    }
   ],
   "source": [
    "# get a sample of test data again\n",
    "test_images, test_outputs, gt_pts = net_sample_output()\n",
    "\n",
    "print(test_images.data.size())\n",
    "print(test_outputs.data.size())\n",
    "print(gt_pts.size())"
   ]
  },
  {
   "cell_type": "code",
   "execution_count": 162,
   "metadata": {},
   "outputs": [
    {
     "data": {
      "image/png": "[encoded data removed]",
      "text/plain": [
       "<Figure size 1440x720 with 1 Axes>"
      ]
     },
     "metadata": {
      "needs_background": "light"
     },
     "output_type": "display_data"
    },
    {
     "data": {
      "image/png": "[encoded data removed]",
      "text/plain": [
       "<Figure size 1440x720 with 1 Axes>"
      ]
     },
     "metadata": {
      "needs_background": "light"
     },
     "output_type": "display_data"
    },
    {
     "data": {
      "image/png": "[encoded data removed]",
      "text/plain": [
       "<Figure size 1440x720 with 1 Axes>"
      ]
     },
     "metadata": {
      "needs_background": "light"
     },
     "output_type": "display_data"
    },
    {
     "data": {
      "image/png": "[encoded data removed]",
      "text/plain": [
       "<Figure size 1440x720 with 1 Axes>"
      ]
     },
     "metadata": {
      "needs_background": "light"
     },
     "output_type": "display_data"
    },
    {
     "data": {
      "image/png": "[encoded data removed]",
      "text/plain": [
       "<Figure size 1440x720 with 1 Axes>"
      ]
     },
     "metadata": {
      "needs_background": "light"
     },
     "output_type": "display_data"
    },
    {
     "data": {
      "image/png": "[encoded data removed]",
      "text/plain": [
       "<Figure size 1440x720 with 1 Axes>"
      ]
     },
     "metadata": {
      "needs_background": "light"
     },
     "output_type": "display_data"
    },
    {
     "data": {
      "image/png": "[encoded data removed]",
      "text/plain": [
       "<Figure size 1440x720 with 1 Axes>"
      ]
     },
     "metadata": {
      "needs_background": "light"
     },
     "output_type": "display_data"
    },
    {
     "data": {
      "image/png": "[encoded data removed]",
      "text/plain": [
       "<Figure size 1440x720 with 1 Axes>"
      ]
     },
     "metadata": {
      "needs_background": "light"
     },
     "output_type": "display_data"
    },
    {
     "data": {
      "image/png": "[encoded data removed]",
      "text/plain": [
       "<Figure size 1440x720 with 1 Axes>"
      ]
     },
     "metadata": {
      "needs_background": "light"
     },
     "output_type": "display_data"
    },
    {
     "data": {
      "image/png": "[encoded data removed]",
      "text/plain": [
       "<Figure size 1440x720 with 1 Axes>"
      ]
     },
     "metadata": {
      "needs_background": "light"
     },
     "output_type": "display_data"
    },
    {
     "data": {
      "image/png": "[encoded data removed]",
      "text/plain": [
       "<Figure size 1440x720 with 1 Axes>"
      ]
     },
     "metadata": {
      "needs_background": "light"
     },
     "output_type": "display_data"
    },
    {
     "data": {
      "image/png": "[encoded data removed]",
      "text/plain": [
       "<Figure size 1440x720 with 1 Axes>"
      ]
     },
     "metadata": {
      "needs_background": "light"
     },
     "output_type": "display_data"
    },
    {
     "data": {
      "image/png": "[encoded data removed]",
      "text/plain": [
       "<Figure size 1440x720 with 1 Axes>"
      ]
     },
     "metadata": {
      "needs_background": "light"
     },
     "output_type": "display_data"
    },
    {
     "data": {
      "image/png": "[encoded data removed]",
      "text/plain": [
       "<Figure size 1440x720 with 1 Axes>"
      ]
     },
     "metadata": {
      "needs_background": "light"
     },
     "output_type": "display_data"
    },
    {
     "data": {
      "image/png": "[encoded data removed]",
      "text/plain": [
       "<Figure size 1440x720 with 1 Axes>"
      ]
     },
     "metadata": {
      "needs_background": "light"
     },
     "output_type": "display_data"
    },
    {
     "data": {
      "image/png": "[encoded data removed]",
      "text/plain": [
       "<Figure size 1440x720 with 1 Axes>"
      ]
     },
     "metadata": {
      "needs_background": "light"
     },
     "output_type": "display_data"
    }
   ],
   "source": [
    "## TODO: visualize your test output\n",
    "# you can use the same function as before, by un-commenting the line below:\n",
    "\n",
    "visualize_output(test_images, test_outputs, gt_pts)\n"
   ]
  },
  {
   "cell_type": "markdown",
   "metadata": {},
   "source": [
    "Once you've found a good model (or two), save your model so you can load it and use it later!\n",
    "\n",
    "Save your models but please **delete any checkpoints and saved models before you submit your project** otherwise your workspace may be too large to submit."
   ]
  },
  {
   "cell_type": "code",
   "execution_count": 163,
   "metadata": {},
   "outputs": [],
   "source": [
    "## TODO: change the name to something uniqe for each new model\n",
    "model_name = 'final_model.pt'\n",
    "\n",
    "# after training, save your model parameters in the dir 'saved_models'\n",
    "torch.save(net.state_dict(), model_dir+model_name)"
   ]
  },
  {
   "cell_type": "markdown",
   "metadata": {},
   "source": [
    "After you've trained a well-performing model, answer the following questions so that we have some insight into your training and architecture selection process. Answering all questions is required to pass this project."
   ]
  },
  {
   "cell_type": "markdown",
   "metadata": {},
   "source": [
    "### Question 1: What optimization and loss functions did you choose and why?\n"
   ]
  },
  {
   "cell_type": "markdown",
   "metadata": {},
   "source": [
    "**Answer**: I prefered to use the SmoothL1Loss, as from the first tests MSELoss seemed to penalize too much wrong prediction, exploding the loss. For the optimizer I used Adam, which has good properties of adaptation during learning. I just had to lower the learning rate, as the learning curve was a bit erratic with the default value."
   ]
  },
  {
   "cell_type": "markdown",
   "metadata": {},
   "source": [
    "### Question 2: What kind of network architecture did you start with and how did it change as you tried different architectures? Did you decide to add more convolutional layers or any layers to avoid overfitting the data?"
   ]
  },
  {
   "cell_type": "markdown",
   "metadata": {},
   "source": [
    "**Answer**: I started with the scheme provided by the recommended paper and then I added one convolutional block in order to fit to the different input size (224x224). Another option I wanted to evaluate was AlexNet, already compatible with the size, but the current one prooved to be satisfactory"
   ]
  },
  {
   "cell_type": "markdown",
   "metadata": {},
   "source": [
    "### Question 3: How did you decide on the number of epochs and batch_size to train your model?"
   ]
  },
  {
   "cell_type": "markdown",
   "metadata": {},
   "source": [
    "**Answer**: The paper recommended 300 epochs and a batch size of 128. Nevertheless in computer vision applications ofter smaller batches are also successful, so I used just 16, also to cope with memory limitations. 100 epochs have been sufficient to get very decent results, even if the model seemed to slowly improve further."
   ]
  },
  {
   "cell_type": "markdown",
   "metadata": {},
   "source": [
    "## Feature Visualization\n",
    "\n",
    "Sometimes, neural networks are thought of as a black box, given some input, they learn to produce some output. CNN's are actually learning to recognize a variety of spatial patterns and you can visualize what each convolutional layer has been trained to recognize by looking at the weights that make up each convolutional kernel and applying those one at a time to a sample image. This technique is called feature visualization and it's useful for understanding the inner workings of a CNN."
   ]
  },
  {
   "cell_type": "markdown",
   "metadata": {},
   "source": [
    "In the cell below, you can see how to extract a single filter (by index) from your first convolutional layer. The filter should appear as a grayscale grid."
   ]
  },
  {
   "cell_type": "code",
   "execution_count": 165,
   "metadata": {},
   "outputs": [
    {
     "name": "stdout",
     "output_type": "stream",
     "text": [
      "[[-0.00860252 -0.00558948 -0.01678217 -0.01580696 -0.0287012 ]\n",
      " [ 0.01463735  0.01610846  0.00741123  0.00965086 -0.00135079]\n",
      " [ 0.02259196  0.02405469  0.01858344  0.02208283  0.01836809]\n",
      " [ 0.02784061  0.02930352  0.0304615   0.02432782  0.02522654]\n",
      " [ 0.03452901  0.03018199  0.03048476  0.02505563  0.02248403]]\n",
      "(5, 5)\n"
     ]
    },
    {
     "data": {
      "text/plain": [
       "<matplotlib.image.AxesImage at 0x7fee530fb1d0>"
      ]
     },
     "execution_count": 165,
     "metadata": {},
     "output_type": "execute_result"
    },
    {
     "data": {
      "image/png": "[encoded data removed]",
      "text/plain": [
       "<Figure size 432x288 with 1 Axes>"
      ]
     },
     "metadata": {
      "needs_background": "light"
     },
     "output_type": "display_data"
    }
   ],
   "source": [
    "# Get the weights in the first conv layer, \"conv1\"\n",
    "# if necessary, change this to reflect the name of your first conv layer\n",
    "weights1 = net.conv1.weight.data\n",
    "\n",
    "w = weights1.cpu().numpy()\n",
    "\n",
    "filter_index = 0\n",
    "\n",
    "print(w[filter_index][0])\n",
    "print(w[filter_index][0].shape)\n",
    "\n",
    "# display the filter weights\n",
    "plt.imshow(w[filter_index][0], cmap='gray')\n"
   ]
  },
  {
   "cell_type": "markdown",
   "metadata": {},
   "source": [
    "## Feature maps\n",
    "\n",
    "Each CNN has at least one convolutional layer that is composed of stacked filters (also known as convolutional kernels). As a CNN trains, it learns what weights to include in it's convolutional kernels and when these kernels are applied to some input image, they produce a set of **feature maps**. So, feature maps are just sets of filtered images; they are the images produced by applying a convolutional kernel to an input image. These maps show us the features that the different layers of the neural network learn to extract. For example, you might imagine a convolutional kernel that detects the vertical edges of a face or another one that detects the corners of eyes. You can see what kind of features each of these kernels detects by applying them to an image. One such example is shown below; from the way it brings out the lines in an the image, you might characterize this as an edge detection filter.\n",
    "\n",
    "<img src='images/feature_map_ex.png' width=50% height=50%/>\n",
    "\n",
    "\n",
    "Next, choose a test image and filter it with one of the convolutional kernels in your trained CNN; look at the filtered output to get an idea what that particular kernel detects.\n",
    "\n",
    "### TODO: Filter an image to see the effect of a convolutional kernel\n",
    "---"
   ]
  },
  {
   "cell_type": "code",
   "execution_count": 198,
   "metadata": {},
   "outputs": [
    {
     "data": {
      "text/plain": [
       "<matplotlib.image.AxesImage at 0x7fee53765438>"
      ]
     },
     "execution_count": 198,
     "metadata": {},
     "output_type": "execute_result"
    },
    {
     "data": {
      "image/png": "[encoded data removed]",
      "text/plain": [
       "<Figure size 1440x720 with 3 Axes>"
      ]
     },
     "metadata": {
      "needs_background": "light"
     },
     "output_type": "display_data"
    }
   ],
   "source": [
    "##TODO: load in and display any image from the transformed test dataset\n",
    "\n",
    "## TODO: Using cv's filter2D function,\n",
    "## apply a specific set of filter weights (like the one displayed above) to the test image\n",
    "import cv2\n",
    "\n",
    "flt = np.squeeze(weights1[7].cpu().numpy())\n",
    "src = np.transpose(test_images[0].cpu().numpy(),(1,2,0))\n",
    "\n",
    "filtered_image = cv2.filter2D(src, -1, flt)\n",
    "plt.figure(figsize=(20,10))\n",
    "plt.subplot(1, 3, 1)\n",
    "plt.imshow(flt, cmap='gray')\n",
    "plt.subplot(1, 3, 2)\n",
    "plt.imshow(np.squeeze(src), cmap='gray')\n",
    "plt.subplot(1, 3, 3)\n",
    "plt.imshow(filtered_image, cmap='gray')\n"
   ]
  },
  {
   "cell_type": "markdown",
   "metadata": {},
   "source": [
    "### Question 4: Choose one filter from your trained CNN and apply it to a test image; what purpose do you think it plays? What kind of feature do you think it detects?\n"
   ]
  },
  {
   "cell_type": "markdown",
   "metadata": {},
   "source": [
    "**Answer**: The index 7 filter of my first convolutional layer seems to be an edge detection filter"
   ]
  },
  {
   "cell_type": "markdown",
   "metadata": {},
   "source": [
    "---\n",
    "## Moving on!\n",
    "\n",
    "Now that you've defined and trained your model (and saved the best model), you are ready to move on to the last notebook, which combines a face detector with your saved model to create a facial keypoint detection system that can predict the keypoints on *any* face in an image!"
   ]
  }
 ],
 "metadata": {
  "kernelspec": {
   "display_name": "Python 3",
   "language": "python",
   "name": "python3"
  },
  "language_info": {
   "codemirror_mode": {
    "name": "ipython",
    "version": 3
   },
   "file_extension": ".py",
   "mimetype": "text/x-python",
   "name": "python",
   "nbconvert_exporter": "python",
   "pygments_lexer": "ipython3",
   "version": "3.6.9"
  }
 },
 "nbformat": 4,
 "nbformat_minor": 2
}
